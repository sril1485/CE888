{
  "nbformat": 4,
  "nbformat_minor": 0,
  "metadata": {
    "colab": {
      "name": "Ass_2_final_house_price.ipynb",
      "provenance": [],
      "authorship_tag": "ABX9TyPqIy0rufW/bjqWBW59J1aL",
      "include_colab_link": true
    },
    "kernelspec": {
      "name": "python3",
      "display_name": "Python 3"
    },
    "accelerator": "GPU",
    "widgets": {
      "application/vnd.jupyter.widget-state+json": {
        "88e988b0787d4b728d3ccef96764c0c0": {
          "model_module": "@jupyter-widgets/controls",
          "model_name": "HBoxModel",
          "state": {
            "_view_name": "HBoxView",
            "_dom_classes": [],
            "_model_name": "HBoxModel",
            "_view_module": "@jupyter-widgets/controls",
            "_model_module_version": "1.5.0",
            "_view_count": null,
            "_view_module_version": "1.5.0",
            "box_style": "",
            "layout": "IPY_MODEL_73dd4113fed74412a7dc3a76984d5215",
            "_model_module": "@jupyter-widgets/controls",
            "children": [
              "IPY_MODEL_fa1e8b92cbfe40e38540b96b2b50a754",
              "IPY_MODEL_e2287c51ff9e45e799f54b20e53815e8"
            ]
          }
        },
        "73dd4113fed74412a7dc3a76984d5215": {
          "model_module": "@jupyter-widgets/base",
          "model_name": "LayoutModel",
          "state": {
            "_view_name": "LayoutView",
            "grid_template_rows": null,
            "right": null,
            "justify_content": null,
            "_view_module": "@jupyter-widgets/base",
            "overflow": null,
            "_model_module_version": "1.2.0",
            "_view_count": null,
            "flex_flow": null,
            "width": null,
            "min_width": null,
            "border": null,
            "align_items": null,
            "bottom": null,
            "_model_module": "@jupyter-widgets/base",
            "top": null,
            "grid_column": null,
            "overflow_y": null,
            "overflow_x": null,
            "grid_auto_flow": null,
            "grid_area": null,
            "grid_template_columns": null,
            "flex": null,
            "_model_name": "LayoutModel",
            "justify_items": null,
            "grid_row": null,
            "max_height": null,
            "align_content": null,
            "visibility": null,
            "align_self": null,
            "height": null,
            "min_height": null,
            "padding": null,
            "grid_auto_rows": null,
            "grid_gap": null,
            "max_width": null,
            "order": null,
            "_view_module_version": "1.2.0",
            "grid_template_areas": null,
            "object_position": null,
            "object_fit": null,
            "grid_auto_columns": null,
            "margin": null,
            "display": null,
            "left": null
          }
        },
        "fa1e8b92cbfe40e38540b96b2b50a754": {
          "model_module": "@jupyter-widgets/controls",
          "model_name": "IntProgressModel",
          "state": {
            "_view_name": "ProgressView",
            "style": "IPY_MODEL_fe9f18aab81749e4a9973615e9c50005",
            "_dom_classes": [],
            "description": "100%",
            "_model_name": "IntProgressModel",
            "bar_style": "success",
            "max": 290,
            "_view_module": "@jupyter-widgets/controls",
            "_model_module_version": "1.5.0",
            "value": 290,
            "_view_count": null,
            "_view_module_version": "1.5.0",
            "orientation": "horizontal",
            "min": 0,
            "description_tooltip": null,
            "_model_module": "@jupyter-widgets/controls",
            "layout": "IPY_MODEL_16ceafb9ccaa4250ab1821385c99c434"
          }
        },
        "e2287c51ff9e45e799f54b20e53815e8": {
          "model_module": "@jupyter-widgets/controls",
          "model_name": "HTMLModel",
          "state": {
            "_view_name": "HTMLView",
            "style": "IPY_MODEL_1f5b94c147574f0aa8d1aad52b234789",
            "_dom_classes": [],
            "description": "",
            "_model_name": "HTMLModel",
            "placeholder": "​",
            "_view_module": "@jupyter-widgets/controls",
            "_model_module_version": "1.5.0",
            "value": " 290/290 [12:09&lt;00:00,  2.52s/it]",
            "_view_count": null,
            "_view_module_version": "1.5.0",
            "description_tooltip": null,
            "_model_module": "@jupyter-widgets/controls",
            "layout": "IPY_MODEL_ffb00d26211d4d78862bce3d48ca41be"
          }
        },
        "fe9f18aab81749e4a9973615e9c50005": {
          "model_module": "@jupyter-widgets/controls",
          "model_name": "ProgressStyleModel",
          "state": {
            "_view_name": "StyleView",
            "_model_name": "ProgressStyleModel",
            "description_width": "initial",
            "_view_module": "@jupyter-widgets/base",
            "_model_module_version": "1.5.0",
            "_view_count": null,
            "_view_module_version": "1.2.0",
            "bar_color": null,
            "_model_module": "@jupyter-widgets/controls"
          }
        },
        "16ceafb9ccaa4250ab1821385c99c434": {
          "model_module": "@jupyter-widgets/base",
          "model_name": "LayoutModel",
          "state": {
            "_view_name": "LayoutView",
            "grid_template_rows": null,
            "right": null,
            "justify_content": null,
            "_view_module": "@jupyter-widgets/base",
            "overflow": null,
            "_model_module_version": "1.2.0",
            "_view_count": null,
            "flex_flow": null,
            "width": null,
            "min_width": null,
            "border": null,
            "align_items": null,
            "bottom": null,
            "_model_module": "@jupyter-widgets/base",
            "top": null,
            "grid_column": null,
            "overflow_y": null,
            "overflow_x": null,
            "grid_auto_flow": null,
            "grid_area": null,
            "grid_template_columns": null,
            "flex": null,
            "_model_name": "LayoutModel",
            "justify_items": null,
            "grid_row": null,
            "max_height": null,
            "align_content": null,
            "visibility": null,
            "align_self": null,
            "height": null,
            "min_height": null,
            "padding": null,
            "grid_auto_rows": null,
            "grid_gap": null,
            "max_width": null,
            "order": null,
            "_view_module_version": "1.2.0",
            "grid_template_areas": null,
            "object_position": null,
            "object_fit": null,
            "grid_auto_columns": null,
            "margin": null,
            "display": null,
            "left": null
          }
        },
        "1f5b94c147574f0aa8d1aad52b234789": {
          "model_module": "@jupyter-widgets/controls",
          "model_name": "DescriptionStyleModel",
          "state": {
            "_view_name": "StyleView",
            "_model_name": "DescriptionStyleModel",
            "description_width": "",
            "_view_module": "@jupyter-widgets/base",
            "_model_module_version": "1.5.0",
            "_view_count": null,
            "_view_module_version": "1.2.0",
            "_model_module": "@jupyter-widgets/controls"
          }
        },
        "ffb00d26211d4d78862bce3d48ca41be": {
          "model_module": "@jupyter-widgets/base",
          "model_name": "LayoutModel",
          "state": {
            "_view_name": "LayoutView",
            "grid_template_rows": null,
            "right": null,
            "justify_content": null,
            "_view_module": "@jupyter-widgets/base",
            "overflow": null,
            "_model_module_version": "1.2.0",
            "_view_count": null,
            "flex_flow": null,
            "width": null,
            "min_width": null,
            "border": null,
            "align_items": null,
            "bottom": null,
            "_model_module": "@jupyter-widgets/base",
            "top": null,
            "grid_column": null,
            "overflow_y": null,
            "overflow_x": null,
            "grid_auto_flow": null,
            "grid_area": null,
            "grid_template_columns": null,
            "flex": null,
            "_model_name": "LayoutModel",
            "justify_items": null,
            "grid_row": null,
            "max_height": null,
            "align_content": null,
            "visibility": null,
            "align_self": null,
            "height": null,
            "min_height": null,
            "padding": null,
            "grid_auto_rows": null,
            "grid_gap": null,
            "max_width": null,
            "order": null,
            "_view_module_version": "1.2.0",
            "grid_template_areas": null,
            "object_position": null,
            "object_fit": null,
            "grid_auto_columns": null,
            "margin": null,
            "display": null,
            "left": null
          }
        }
      }
    }
  },
  "cells": [
    {
      "cell_type": "markdown",
      "metadata": {
        "id": "view-in-github",
        "colab_type": "text"
      },
      "source": [
        "<a href=\"https://colab.research.google.com/github/sril1485/CE888/blob/master/Ass_2_final_house_price.ipynb\" target=\"_parent\"><img src=\"https://colab.research.google.com/assets/colab-badge.svg\" alt=\"Open In Colab\"/></a>"
      ]
    },
    {
      "cell_type": "code",
      "metadata": {
        "id": "QeYyBWpe3IfE",
        "colab_type": "code",
        "outputId": "faf3cec5-063e-4327-d515-8b4904483f5b",
        "colab": {
          "base_uri": "https://localhost:8080/",
          "height": 277
        }
      },
      "source": [
        "import os\n",
        "os.environ['KAGGLE_USERNAME'] = \"srinidhikarthick\" # username from the json file\n",
        "os.environ['KAGGLE_KEY'] = \"15467a092669b85df36db57586c2dee5\" # key from the json file\n",
        "!kaggle competitions download -c sberbank-russian-housing-market"
      ],
      "execution_count": 0,
      "outputs": [
        {
          "output_type": "stream",
          "text": [
            "Warning: Looks like you're using an outdated API Version, please consider updating (server 1.5.6 / client 1.5.4)\n",
            "Downloading sample_submission.csv.zip to /content\n",
            "  0% 0.00/18.6k [00:00<?, ?B/s]\n",
            "100% 18.6k/18.6k [00:00<00:00, 7.20MB/s]\n",
            "Downloading test.csv.zip to /content\n",
            "100% 4.46M/4.46M [00:00<00:00, 17.3MB/s]\n",
            "\n",
            "Downloading data_dictionary.txt to /content\n",
            "  0% 0.00/25.4k [00:00<?, ?B/s]\n",
            "100% 25.4k/25.4k [00:00<00:00, 25.3MB/s]\n",
            "Downloading train.csv.zip to /content\n",
            " 29% 5.00M/17.1M [00:00<00:01, 11.0MB/s]\n",
            "100% 17.1M/17.1M [00:00<00:00, 31.6MB/s]\n",
            "Downloading macro.csv.zip to /content\n",
            "  0% 0.00/66.5k [00:00<?, ?B/s]\n",
            "100% 66.5k/66.5k [00:00<00:00, 68.5MB/s]\n"
          ],
          "name": "stdout"
        }
      ]
    },
    {
      "cell_type": "code",
      "metadata": {
        "id": "aXnr9JpI3Rfy",
        "colab_type": "code",
        "outputId": "523cfc8d-dc46-4538-b537-885fac4f60b2",
        "colab": {
          "base_uri": "https://localhost:8080/",
          "height": 277
        }
      },
      "source": [
        "!unzip \\*.zip"
      ],
      "execution_count": 0,
      "outputs": [
        {
          "output_type": "stream",
          "text": [
            "Archive:  test.csv.zip\n",
            "  inflating: test.csv                \n",
            "   creating: __MACOSX/\n",
            "  inflating: __MACOSX/._test.csv     \n",
            "\n",
            "Archive:  macro.csv.zip\n",
            "  inflating: macro.csv               \n",
            "\n",
            "Archive:  sample_submission.csv.zip\n",
            "  inflating: sample_submission.csv   \n",
            "\n",
            "Archive:  train.csv.zip\n",
            "  inflating: train.csv               \n",
            "  inflating: __MACOSX/._train.csv    \n",
            "\n",
            "4 archives were successfully processed.\n"
          ],
          "name": "stdout"
        }
      ]
    },
    {
      "cell_type": "code",
      "metadata": {
        "id": "Ow0JfCRl3Rbd",
        "colab_type": "code",
        "outputId": "87463e83-ad33-49e0-a781-f574088db2ab",
        "colab": {
          "base_uri": "https://localhost:8080/",
          "height": 50
        }
      },
      "source": [
        "import matplotlib.pyplot as plt\n",
        "import seaborn as sns\n",
        "from sklearn.ensemble import RandomForestClassifier\n",
        "from sklearn.model_selection import cross_val_score\n",
        "from tqdm import tqdm_notebook\n",
        "import random\n",
        "import numpy as np\n",
        "import pandas as pd\n",
        "import matplotlib.pyplot as plt\n",
        "import seaborn as sns\n",
        "%matplotlib inline\n",
        "import warnings\n",
        "warnings.filterwarnings('ignore')\n",
        "from sklearn.ensemble import RandomForestRegressor\n",
        "from sklearn.ensemble import RandomForestClassifier\n",
        "from sklearn.model_selection import cross_val_score\n",
        "from sklearn.preprocessing import LabelEncoder\n",
        "from sklearn.ensemble import ExtraTreesClassifier\n",
        "from sklearn.model_selection import cross_val_score\n",
        "from sklearn.metrics import make_scorer, accuracy_score\n",
        "from sklearn.ensemble import GradientBoostingRegressor as GBR\n",
        "from sklearn.model_selection import GridSearchCV\n",
        "from sklearn.metrics import  make_scorer\n",
        "from sklearn.metrics import mean_squared_error"
      ],
      "execution_count": 0,
      "outputs": [
        {
          "output_type": "stream",
          "text": [
            "/usr/local/lib/python3.6/dist-packages/statsmodels/tools/_testing.py:19: FutureWarning: pandas.util.testing is deprecated. Use the functions in the public API at pandas.testing instead.\n",
            "  import pandas.util.testing as tm\n"
          ],
          "name": "stderr"
        }
      ]
    },
    {
      "cell_type": "code",
      "metadata": {
        "id": "ka-XcE0o3RZD",
        "colab_type": "code",
        "colab": {}
      },
      "source": [
        "train = pd.read_csv(\"/content/train.csv\")\n",
        "test = pd.read_csv(\"/content/test.csv\")"
      ],
      "execution_count": 0,
      "outputs": []
    },
    {
      "cell_type": "code",
      "metadata": {
        "id": "28bbMR7K3RWm",
        "colab_type": "code",
        "colab": {}
      },
      "source": [
        "import numpy as np\n",
        "## missing values for train data\n",
        "for i in train.columns:\n",
        "    if train[i].dtype == 'object':\n",
        "      train[i] = train[i].fillna(train[i].mode().iloc[0])\n",
        "    if (train[i].dtype == 'int' or train[i].dtype == 'float'):\n",
        "      train[i] = train[i].fillna(np.mean(train[i]))\n",
        "#missing values for test data\n",
        "for i in test.columns:\n",
        "    if test[i].dtype == 'object':\n",
        "      test[i] = test[i].fillna(test[i].mode().iloc[0])\n",
        "    if (test[i].dtype == 'int' or test[i].dtype == 'float'):\n",
        "      test[i] = test[i].fillna(np.mean(test[i]))\n",
        "\n"
      ],
      "execution_count": 0,
      "outputs": []
    },
    {
      "cell_type": "code",
      "metadata": {
        "id": "xoebr8HM3RS8",
        "colab_type": "code",
        "colab": {}
      },
      "source": [
        "# replacing the categorical values into numerical values\n",
        "lenc = LabelEncoder()\n",
        "for i in train.columns:\n",
        "    if (train[i].dtype == 'object'):\n",
        "      train[i] = lenc.fit_transform(train[i].astype('str'))\n",
        "      train[i] = train[i].astype('object')\n",
        "\n",
        "for i in test.columns:\n",
        "    if (test[i].dtype == 'object'):\n",
        "      test[i] = lenc.fit_transform(test[i].astype('str'))\n",
        "      test[i] = test[i].astype('object')"
      ],
      "execution_count": 0,
      "outputs": []
    },
    {
      "cell_type": "code",
      "metadata": {
        "id": "XTuM2hmE3RP9",
        "colab_type": "code",
        "outputId": "bd78332d-7252-4463-b29e-8e44b400ad25",
        "colab": {
          "base_uri": "https://localhost:8080/",
          "height": 50
        }
      },
      "source": [
        "print(\"Nan values in Train set is \" , train.isnull().sum().sum())\n",
        "print(\"Nan values in Test set is \" , test.isnull().sum().sum())"
      ],
      "execution_count": 0,
      "outputs": [
        {
          "output_type": "stream",
          "text": [
            "Nan values in Train set is  0\n",
            "Nan values in Test set is  0\n"
          ],
          "name": "stdout"
        }
      ]
    },
    {
      "cell_type": "code",
      "metadata": {
        "id": "m1-Xw-b23RNR",
        "colab_type": "code",
        "colab": {}
      },
      "source": [
        "## taking sample from training data\n",
        "train = train.sample(7000, random_state=12)"
      ],
      "execution_count": 0,
      "outputs": []
    },
    {
      "cell_type": "code",
      "metadata": {
        "id": "Pyp06a583RKl",
        "colab_type": "code",
        "colab": {}
      },
      "source": [
        "# create dummy dataframes for covarite shift \n",
        "c_train = train.drop(columns=['id','price_doc'])\n",
        "c_test = test.drop(columns=['id'])"
      ],
      "execution_count": 0,
      "outputs": []
    },
    {
      "cell_type": "code",
      "metadata": {
        "id": "N-DDr87R3RH9",
        "colab_type": "code",
        "colab": {}
      },
      "source": [
        "\n",
        "def findFeatures(train, test, cv = 10, thresh = 0.8, n_samples = None):\n",
        "    \n",
        "    #labels for train and test set\n",
        "    train['set'] = 0\n",
        "    test['set'] = 1\n",
        "\n",
        "    ## Consider taking smaller sample in case of huge datasets\n",
        "    if n_samples is not None:\n",
        "        print(\"Taking {} random samples from the data\".format(n_samples))\n",
        "        train = train.sample(n_samples, random_state=12)\n",
        "        test = test.sample(n_samples, random_state=12)\n",
        "\n",
        "\n",
        "    combinedData = train.append(test)\n",
        "    X = combinedData.drop(columns=['set'], axis=1)\n",
        "    y = combinedData['set']\n",
        "\n",
        "    model = RandomForestClassifier(n_estimators = 50, max_depth = 5, min_samples_leaf = 5)\n",
        "    features = []\n",
        "\n",
        "    for feature in tqdm_notebook(X.columns):\n",
        "        score = cross_val_score(model, pd.DataFrame(X[feature]), y, cv=cv, scoring='roc_auc')\n",
        "        if np.mean(score) > thresh:\n",
        "            CS_features.append(feature)\n",
        "            print(feature,np.mean(score))\n",
        "\n",
        "    return features"
      ],
      "execution_count": 0,
      "outputs": []
    },
    {
      "cell_type": "code",
      "metadata": {
        "id": "4O3zZ0lg3RFo",
        "colab_type": "code",
        "outputId": "c831e7e0-795e-44ba-c630-3285574035f8",
        "colab": {
          "base_uri": "https://localhost:8080/",
          "height": 357,
          "referenced_widgets": [
            "88e988b0787d4b728d3ccef96764c0c0",
            "73dd4113fed74412a7dc3a76984d5215",
            "fa1e8b92cbfe40e38540b96b2b50a754",
            "e2287c51ff9e45e799f54b20e53815e8",
            "fe9f18aab81749e4a9973615e9c50005",
            "16ceafb9ccaa4250ab1821385c99c434",
            "1f5b94c147574f0aa8d1aad52b234789",
            "ffb00d26211d4d78862bce3d48ca41be"
          ]
        }
      },
      "source": [
        "cs_features = findFeatures(c_train, c_test, cv = 10, thresh = 0.8,)"
      ],
      "execution_count": 0,
      "outputs": [
        {
          "output_type": "display_data",
          "data": {
            "application/vnd.jupyter.widget-view+json": {
              "model_id": "88e988b0787d4b728d3ccef96764c0c0",
              "version_minor": 0,
              "version_major": 2
            },
            "text/plain": [
              "HBox(children=(IntProgress(value=0, max=290), HTML(value='')))"
            ]
          },
          "metadata": {
            "tags": []
          }
        },
        {
          "output_type": "stream",
          "text": [
            "timestamp 0.7815863007196813\n",
            "life_sq 0.8369653262832225\n",
            "build_year 0.7963630423322751\n",
            "kitch_sq 0.8939341962635321\n",
            "state 0.7565409463086368\n",
            "preschool_quota 0.7323690675169854\n",
            "school_quota 0.7384121730152842\n",
            "hospital_beds_raion 0.8848359380584897\n",
            "raion_build_count_with_material_info 0.7031376253630868\n",
            "build_count_brick 0.7057844524484675\n",
            "build_count_panel 0.7002048815679609\n",
            "raion_build_count_with_builddate_info 0.703205955813448\n",
            "build_count_1946-1970 0.7043913041311036\n",
            "cafe_sum_500_min_price_avg 0.8482666518992359\n",
            "cafe_sum_500_max_price_avg 0.8478856335835692\n",
            "cafe_avg_price_500 0.8479298253633786\n",
            "cafe_sum_1000_min_price_avg 0.7031805430264739\n",
            "cafe_avg_price_1000 0.7036729858626571\n",
            "\n"
          ],
          "name": "stdout"
        }
      ]
    },
    {
      "cell_type": "code",
      "metadata": {
        "id": "Xgh494-L3RBx",
        "colab_type": "code",
        "colab": {}
      },
      "source": [
        "from sklearn.model_selection import StratifiedKFold as SKF\n",
        "from sklearn.metrics import roc_auc_score as AUC\n",
        "from sklearn.svm import SVC\n",
        "\n",
        "def getWeight(train, test):\n",
        "    #labels for train and test set\n",
        "    train['set'] = 0\n",
        "    test['set'] = 1\n",
        "\n",
        "    combinedData = train.append(test)\n",
        "    X = combinedData.drop(columns=['set'], axis=1)\n",
        "    y = combinedData['set']\n",
        "\n",
        "    clf = RandomForestClassifier()\n",
        "    # clf = SVC(probability=True)\n",
        "    predictions = np.zeros(y.shape)\n",
        "    skf = SKF(n_splits=10, shuffle=True, random_state=888)\n",
        "\n",
        "    for kfold, (train_idx, test_idx) in enumerate(skf.split(X, y)):\n",
        "        print('Training discriminator model for fold {}'.format(kfold))\n",
        "        X_train, X_test = X.iloc[train_idx], X.iloc[test_idx]\n",
        "        y_train, y_test = y.iloc[train_idx], y.iloc[test_idx]\n",
        "            \n",
        "        clf.fit(X_train, y_train)\n",
        "        probs = clf.predict_proba(X_test)[:, 1]\n",
        "        predictions[test_idx] = probs\n",
        "\n",
        "    all_weights = np.exp(predictions)*len(train)/len(test)\n",
        "    tr_weights = all_weights[:len(train)]\n",
        "\n",
        "    return tr_weights\n"
      ],
      "execution_count": 0,
      "outputs": []
    },
    {
      "cell_type": "code",
      "metadata": {
        "id": "vbQfuIwL3Q-m",
        "colab_type": "code",
        "outputId": "ccc95956-48d1-403d-fbe1-907ae4451b66",
        "colab": {
          "base_uri": "https://localhost:8080/",
          "height": 180
        }
      },
      "source": [
        "train_weights = getWeight(c_train, c_test)"
      ],
      "execution_count": 0,
      "outputs": [
        {
          "output_type": "stream",
          "text": [
            "Training discriminator model for fold 0\n",
            "Training discriminator model for fold 1\n",
            "Training discriminator model for fold 2\n",
            "Training discriminator model for fold 3\n",
            "Training discriminator model for fold 4\n",
            "Training discriminator model for fold 5\n",
            "Training discriminator model for fold 6\n",
            "Training discriminator model for fold 7\n",
            "Training discriminator model for fold 8\n",
            "Training discriminator model for fold 9\n"
          ],
          "name": "stdout"
        }
      ]
    },
    {
      "cell_type": "code",
      "metadata": {
        "id": "BRuPFMNM3Q7a",
        "colab_type": "code",
        "colab": {}
      },
      "source": [
        "y = train['price_doc']\n",
        "X = train.drop(['price_doc'], axis=1)"
      ],
      "execution_count": 0,
      "outputs": []
    },
    {
      "cell_type": "code",
      "metadata": {
        "id": "SxYj6g_E3Q4O",
        "colab_type": "code",
        "outputId": "ba56fdb4-d3f1-4d6a-8b5f-4d08de1f47ad",
        "colab": {
          "base_uri": "https://localhost:8080/",
          "height": 147
        }
      },
      "source": [
        "# Build prediction Model without weight\n",
        "from sklearn.ensemble import ExtraTreesClassifier\n",
        "from sklearn.model_selection import cross_val_score\n",
        "from sklearn.metrics import make_scorer, accuracy_score\n",
        "\n",
        "# main Model\n",
        "clf = RandomForestClassifier(n_jobs=-1,max_depth=5)\n",
        "clf.fit(X,y)"
      ],
      "execution_count": 0,
      "outputs": [
        {
          "output_type": "execute_result",
          "data": {
            "text/plain": [
              "RandomForestClassifier(bootstrap=True, ccp_alpha=0.0, class_weight=None,\n",
              "                       criterion='gini', max_depth=5, max_features='auto',\n",
              "                       max_leaf_nodes=None, max_samples=None,\n",
              "                       min_impurity_decrease=0.0, min_impurity_split=None,\n",
              "                       min_samples_leaf=1, min_samples_split=2,\n",
              "                       min_weight_fraction_leaf=0.0, n_estimators=100,\n",
              "                       n_jobs=-1, oob_score=False, random_state=None, verbose=0,\n",
              "                       warm_start=False)"
            ]
          },
          "metadata": {
            "tags": []
          },
          "execution_count": 15
        }
      ]
    },
    {
      "cell_type": "code",
      "metadata": {
        "id": "7LY2r9uQ4LFK",
        "colab_type": "code",
        "colab": {}
      },
      "source": [
        "predictions_no_weight = clf.predict(test)"
      ],
      "execution_count": 0,
      "outputs": []
    },
    {
      "cell_type": "code",
      "metadata": {
        "id": "34xhVZV54LAB",
        "colab_type": "code",
        "outputId": "08d96bf2-46c5-4683-adbb-0f33941bccf7",
        "colab": {
          "base_uri": "https://localhost:8080/",
          "height": 147
        }
      },
      "source": [
        "# Build prediction Model with weight\n",
        "# main Model\n",
        "clf = RandomForestClassifier(n_jobs=-1,max_depth=5)\n",
        "clf.fit(X,y, sample_weight=train_weights)"
      ],
      "execution_count": 0,
      "outputs": [
        {
          "output_type": "execute_result",
          "data": {
            "text/plain": [
              "RandomForestClassifier(bootstrap=True, ccp_alpha=0.0, class_weight=None,\n",
              "                       criterion='gini', max_depth=5, max_features='auto',\n",
              "                       max_leaf_nodes=None, max_samples=None,\n",
              "                       min_impurity_decrease=0.0, min_impurity_split=None,\n",
              "                       min_samples_leaf=1, min_samples_split=2,\n",
              "                       min_weight_fraction_leaf=0.0, n_estimators=100,\n",
              "                       n_jobs=-1, oob_score=False, random_state=None, verbose=0,\n",
              "                       warm_start=False)"
            ]
          },
          "metadata": {
            "tags": []
          },
          "execution_count": 17
        }
      ]
    },
    {
      "cell_type": "code",
      "metadata": {
        "id": "G8qcNzi44b4M",
        "colab_type": "code",
        "colab": {}
      },
      "source": [
        "predictions_with_weight = clf.predict(test)"
      ],
      "execution_count": 0,
      "outputs": []
    },
    {
      "cell_type": "code",
      "metadata": {
        "id": "6Z6uke-y4kAH",
        "colab_type": "code",
        "colab": {}
      },
      "source": [
        "sub_df = pd.DataFrame({'id':test['id']})"
      ],
      "execution_count": 0,
      "outputs": []
    },
    {
      "cell_type": "code",
      "metadata": {
        "id": "zXkc7owg4j83",
        "colab_type": "code",
        "colab": {}
      },
      "source": [
        "sub_df['price_doc'] = predictions_no_weight"
      ],
      "execution_count": 0,
      "outputs": []
    },
    {
      "cell_type": "code",
      "metadata": {
        "id": "IYv1bBxK4j6G",
        "colab_type": "code",
        "colab": {}
      },
      "source": [
        "sub_df.to_csv(\"submission_no_weight.csv\", index=False)\n"
      ],
      "execution_count": 0,
      "outputs": []
    },
    {
      "cell_type": "code",
      "metadata": {
        "id": "MelgGvTT4j2d",
        "colab_type": "code",
        "outputId": "be1c3663-427e-49fc-c896-fc7fa6e4d8c3",
        "colab": {
          "base_uri": "https://localhost:8080/",
          "height": 66
        }
      },
      "source": [
        "!kaggle competitions submit -c sberbank-russian-housing-market -f /content/submission_no_weight.csv -m \"1st submission without CS\""
      ],
      "execution_count": 0,
      "outputs": [
        {
          "output_type": "stream",
          "text": [
            "Warning: Looks like you're using an outdated API Version, please consider updating (server 1.5.6 / client 1.5.4)\n",
            "100% 105k/105k [00:08<00:00, 13.3kB/s]\n",
            "Successfully submitted to Sberbank Russian Housing Market"
          ],
          "name": "stdout"
        }
      ]
    },
    {
      "cell_type": "code",
      "metadata": {
        "id": "1dQtMnie4jyj",
        "colab_type": "code",
        "colab": {}
      },
      "source": [
        "sub_df = pd.DataFrame({'id':test['id']})\n",
        "sub_df['price_doc'] = predictions_with_weight\n",
        "sub_df.to_csv(\"submission_with_weight.csv\", index=False)"
      ],
      "execution_count": 0,
      "outputs": []
    },
    {
      "cell_type": "code",
      "metadata": {
        "id": "2cHPAxOz4-Ro",
        "colab_type": "code",
        "outputId": "5c13984f-079c-4221-872d-1a5ff0e5077f",
        "colab": {
          "base_uri": "https://localhost:8080/",
          "height": 66
        }
      },
      "source": [
        "!kaggle competitions submit -c sberbank-russian-housing-market -f /content/submission_with_weight.csv -m \"2nd submission without CS\""
      ],
      "execution_count": 0,
      "outputs": [
        {
          "output_type": "stream",
          "text": [
            "Warning: Looks like you're using an outdated API Version, please consider updating (server 1.5.6 / client 1.5.4)\n",
            "100% 105k/105k [00:10<00:00, 10.6kB/s]\n",
            "Successfully submitted to Sberbank Russian Housing Market"
          ],
          "name": "stdout"
        }
      ]
    },
    {
      "cell_type": "code",
      "metadata": {
        "id": "67Sq7j_t7zUk",
        "colab_type": "code",
        "outputId": "c123e2f9-891e-4dac-e77c-3e314260b579",
        "colab": {
          "base_uri": "https://localhost:8080/",
          "height": 115
        }
      },
      "source": [
        "!kaggle competitions submissions -c sberbank-russian-housing-market"
      ],
      "execution_count": 0,
      "outputs": [
        {
          "output_type": "stream",
          "text": [
            "Warning: Looks like you're using an outdated API Version, please consider updating (server 1.5.6 / client 1.5.4)\n",
            "fileName                    date                 description                status    publicScore  privateScore  \n",
            "--------------------------  -------------------  -------------------------  --------  -----------  ------------  \n",
            "submission_with_weight.csv  2020-04-21 08:51:28  2nd submission without CS  complete  1.37904      1.37471       \n",
            "submission_no_weight.csv    2020-04-21 08:50:56  1st submission without CS  complete  1.38895      1.39612       \n",
            "submission_no_cs.csv        2020-04-21 08:12:02  1st submission without CS  error     None         None          \n"
          ],
          "name": "stdout"
        }
      ]
    }
  ]
}