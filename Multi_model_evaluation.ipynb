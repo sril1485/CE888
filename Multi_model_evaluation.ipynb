{
  "nbformat": 4,
  "nbformat_minor": 0,
  "metadata": {
    "colab": {
      "provenance": [],
      "authorship_tag": "ABX9TyMn3Huwq3jzC0ZaWZhtOChv",
      "include_colab_link": true
    },
    "kernelspec": {
      "name": "python3",
      "display_name": "Python 3"
    },
    "language_info": {
      "name": "python"
    }
  },
  "cells": [
    {
      "cell_type": "markdown",
      "metadata": {
        "id": "view-in-github",
        "colab_type": "text"
      },
      "source": [
        "<a href=\"https://colab.research.google.com/github/sril1485/CE888/blob/master/Multi_model_evaluation.ipynb\" target=\"_parent\"><img src=\"https://colab.research.google.com/assets/colab-badge.svg\" alt=\"Open In Colab\"/></a>"
      ]
    },
    {
      "cell_type": "code",
      "execution_count": null,
      "metadata": {
        "id": "cjEDP9gZ7sfg"
      },
      "outputs": [],
      "source": [
        "from numpy import mean\n",
        "from numpy import isnan\n",
        "from numpy import asarray\n",
        "from numpy import polyfit\n",
        "from scipy.stats import pearsonr\n",
        "from matplotlib import pyplot\n",
        "from sklearn.datasets import make_classification\n",
        "from sklearn.model_selection import KFold\n",
        "from sklearn.model_selection import LeaveOneOut\n",
        "from sklearn.model_selection import cross_val_score\n",
        "from sklearn.linear_model import LogisticRegression\n",
        "from sklearn.linear_model import RidgeClassifier\n",
        "from sklearn.linear_model import SGDClassifier\n",
        "from sklearn.linear_model import PassiveAggressiveClassifier\n",
        "from sklearn.neighbors import KNeighborsClassifier\n",
        "from sklearn.tree import DecisionTreeClassifier\n",
        "from sklearn.tree import ExtraTreeClassifier\n",
        "from sklearn.svm import LinearSVC\n",
        "from sklearn.svm import SVC\n",
        "from sklearn.naive_bayes import GaussianNB\n",
        "from sklearn.ensemble import AdaBoostClassifier\n",
        "from sklearn.ensemble import BaggingClassifier\n",
        "from sklearn.ensemble import RandomForestClassifier\n",
        "from sklearn.ensemble import ExtraTreesClassifier\n",
        "from sklearn.gaussian_process import GaussianProcessClassifier\n",
        "from sklearn.ensemble import GradientBoostingClassifier\n",
        "from sklearn.discriminant_analysis import LinearDiscriminantAnalysis\n",
        "from sklearn.discriminant_analysis import QuadraticDiscriminantAnalysis\n",
        "import pandas as pd\n",
        "from datetime import datetime\n",
        "import seaborn as sns\n",
        "from xgboost import XGBClassifier\n",
        "import matplotlib.pyplot as plt\n",
        "from sklearn.metrics import accuracy_score, precision_score, recall_score, f1_score\n",
        "import warnings\n",
        "from sklearn.model_selection import train_test_split\n",
        "import lightgbm as lgb\n",
        "warnings.filterwarnings('ignore')"
      ]
    },
    {
      "cell_type": "code",
      "source": [],
      "metadata": {
        "id": "_2woWwE377Y0"
      },
      "execution_count": null,
      "outputs": []
    },
    {
      "cell_type": "code",
      "source": [
        "X_train, X_test, y_train, y_test = train_test_split(X_std, Y, test_size=0.2, random_state=42)\n",
        "feat_dic=dict()\n",
        "for i in range(1,len(X.columns)):\n",
        "    lis=list()\n",
        "    selector = SelectKBest(f_classif, k=i)  # Choose the number of features (k) to select\n",
        "    selector.fit(X_train, y_train)\n",
        "    clf = RandomForestClassifier()\n",
        "    clf.fit(X_train, y_train)\n",
        "    y_pred = clf.predict(X_test)\n",
        "    accuracy = accuracy_score(y_test, y_pred)\n",
        "    precision = precision_score(y_test, y_pred)\n",
        "    recall = recall_score(y_test, y_pred)\n",
        "    f1 = f1_score(y_test, y_pred)\n",
        "    feature_names = list(X.columns)\n",
        "    support = selector.get_support()\n",
        "    for feature, supported in zip(feature_names, support):\n",
        "        if supported:\n",
        "            lis.append(feature)\n",
        "    feat_dic[i]=[accuracy,precision,recall,f1,lis]"
      ],
      "metadata": {
        "id": "xenXAdWy77bU"
      },
      "execution_count": null,
      "outputs": []
    },
    {
      "cell_type": "code",
      "source": [
        "def models(X_train, X_test, y_train, y_test):\n",
        "    model=list()\n",
        "    acc=list()\n",
        "    prec=list()\n",
        "    rec=list()\n",
        "    fsc=list()\n",
        "    mds =[LogisticRegression(), DecisionTreeClassifier(), LinearSVC(), SVC(), GaussianNB(), AdaBoostClassifier(), RandomForestClassifier(),lgb.LGBMClassifier()]\n",
        "    for i in mds:\n",
        "        clf = i\n",
        "        clf.fit(X_train, y_train)\n",
        "        y_pred = clf.predict(X_test)\n",
        "        accuracy = accuracy_score(y_test, y_pred)\n",
        "        precision = precision_score(y_test, y_pred)\n",
        "        recall = recall_score(y_test, y_pred)\n",
        "        f1 = f1_score(y_test, y_pred)\n",
        "        model.append(i)\n",
        "        acc.append(accuracy)\n",
        "        prec.append(precision)\n",
        "        rec.append(recall)\n",
        "        fsc.append(f1)\n",
        "    return pd.DataFrame({'Model':model,'Accuracy':acc,'Precision':prec,'Recall':rec,'F1-Score':fsc})"
      ],
      "metadata": {
        "id": "k_bPZabu77dc"
      },
      "execution_count": null,
      "outputs": []
    },
    {
      "cell_type": "code",
      "source": [
        "results=models(X_train, X_test, y_train, y_test)\n",
        "results['Model']=pd.Series(['LogisticRegression','DecisionTreeClassifier','LinearSVC',  'SVC',  'GaussianNB','AdaBoostClassifier', 'RandomForestClassifier','LightGBMClassifier'])\n",
        "results"
      ],
      "metadata": {
        "id": "aObED-Hd77f8"
      },
      "execution_count": null,
      "outputs": []
    },
    {
      "cell_type": "code",
      "source": [],
      "metadata": {
        "id": "YcbKV6b577h8"
      },
      "execution_count": null,
      "outputs": []
    },
    {
      "cell_type": "code",
      "source": [],
      "metadata": {
        "id": "BPLOz9Gc77j1"
      },
      "execution_count": null,
      "outputs": []
    }
  ]
}