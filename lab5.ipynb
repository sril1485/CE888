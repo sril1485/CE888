{
  "nbformat": 4,
  "nbformat_minor": 0,
  "metadata": {
    "colab": {
      "name": "lab5.ipynb",
      "provenance": [],
      "authorship_tag": "ABX9TyNsCGCcdrnvIaj7gs6amTwa",
      "include_colab_link": true
    },
    "kernelspec": {
      "name": "python3",
      "display_name": "Python 3"
    },
    "accelerator": "GPU"
  },
  "cells": [
    {
      "cell_type": "markdown",
      "metadata": {
        "id": "view-in-github",
        "colab_type": "text"
      },
      "source": [
        "<a href=\"https://colab.research.google.com/github/sril1485/CE888/blob/master/lab5.ipynb\" target=\"_parent\"><img src=\"https://colab.research.google.com/assets/colab-badge.svg\" alt=\"Open In Colab\"/></a>"
      ]
    },
    {
      "cell_type": "code",
      "metadata": {
        "id": "YGR7qTZoywOF",
        "colab_type": "code",
        "colab": {}
      },
      "source": [
        "import pandas as pd\n",
        "import numpy as np\n",
        "from IPython.display import Image\n",
        "np.set_printoptions(precision = 3)"
      ],
      "execution_count": 0,
      "outputs": []
    },
    {
      "cell_type": "code",
      "metadata": {
        "id": "SxtEyoA4y1Rh",
        "colab_type": "code",
        "colab": {}
      },
      "source": [
        "data = pd.read_csv(\"https://raw.githubusercontent.com/albanda/CE888/master/lab5-recommender/user_ratings.csv\")"
      ],
      "execution_count": 0,
      "outputs": []
    },
    {
      "cell_type": "code",
      "metadata": {
        "id": "WlJC-awUy6wl",
        "colab_type": "code",
        "colab": {}
      },
      "source": [
        "n_latent_factors = 2\n",
        "\n",
        "user_ratings = data.values\n",
        "# Initialise as random values\n",
        "latent_user_preferences = np.random.random((user_ratings.shape[0], n_latent_factors))\n",
        "latent_item_features = np.random.random((user_ratings.shape[1], n_latent_factors))"
      ],
      "execution_count": 0,
      "outputs": []
    },
    {
      "cell_type": "code",
      "metadata": {
        "id": "9rmA7SxMy-46",
        "colab_type": "code",
        "colab": {
          "base_uri": "https://localhost:8080/",
          "height": 102
        },
        "outputId": "3c34dfb9-3d84-4604-9db2-bf446a77781c"
      },
      "source": [
        "latent_item_features\n"
      ],
      "execution_count": 4,
      "outputs": [
        {
          "output_type": "execute_result",
          "data": {
            "text/plain": [
              "array([[0.741, 0.084],\n",
              "       [0.707, 0.626],\n",
              "       [0.126, 0.645],\n",
              "       [0.298, 0.452],\n",
              "       [0.913, 0.549]])"
            ]
          },
          "metadata": {
            "tags": []
          },
          "execution_count": 4
        }
      ]
    },
    {
      "cell_type": "code",
      "metadata": {
        "id": "kUtFvx7VzFOq",
        "colab_type": "code",
        "colab": {
          "base_uri": "https://localhost:8080/",
          "height": 187
        },
        "outputId": "ec82f492-fd47-47bf-e670-3430df31d437"
      },
      "source": [
        "latent_user_preferences\n"
      ],
      "execution_count": 5,
      "outputs": [
        {
          "output_type": "execute_result",
          "data": {
            "text/plain": [
              "array([[0.945, 0.325],\n",
              "       [0.307, 0.251],\n",
              "       [0.259, 0.49 ],\n",
              "       [0.053, 0.903],\n",
              "       [0.454, 0.793],\n",
              "       [0.44 , 0.17 ],\n",
              "       [0.593, 0.694],\n",
              "       [0.812, 0.015],\n",
              "       [0.387, 0.448],\n",
              "       [0.841, 0.621]])"
            ]
          },
          "metadata": {
            "tags": []
          },
          "execution_count": 5
        }
      ]
    },
    {
      "cell_type": "code",
      "metadata": {
        "id": "f75RRmwFzTs3",
        "colab_type": "code",
        "colab": {}
      },
      "source": [
        "def predict_rating(user_id, item_id):\n",
        "    \"\"\" Predict a rating given a user_id and an item_id.\n",
        "    \"\"\"\n",
        "    user_preference = latent_user_preferences[user_id]\n",
        "    item_preference = latent_item_features[item_id]\n",
        "    return user_preference.dot(item_preference)\n",
        "\n",
        "\n",
        "def train(user_id, item_id, rating, alpha=0.0001):\n",
        "    \n",
        "    #print item_id\n",
        "    prediction_rating = predict_rating(user_id, item_id)\n",
        "    err =  prediction_rating - rating\n",
        "    #print err\n",
        "    user_pref_values = latent_user_preferences[user_id][:]\n",
        "    latent_user_preferences[user_id] -= alpha * err * latent_item_features[item_id]\n",
        "    latent_item_features[item_id] -= alpha * err * user_pref_values\n",
        "    return err\n",
        "    \n",
        "\n",
        "def sgd(iterations=1000):\n",
        "    \"\"\" Iterate over all users and all items and train for \n",
        "        a certain number of iterations\n",
        "    \"\"\"\n",
        "    for iteration in range(iterations):\n",
        "        error = []\n",
        "        for user_id in range(latent_user_preferences.shape[0]):\n",
        "            for item_id in range(latent_item_features.shape[0]):\n",
        "                rating = user_ratings[user_id][item_id]\n",
        "                if not np.isnan(rating):\n",
        "                    err = train(user_id, item_id, rating)\n",
        "                    error.append(err)\n",
        "        mse = (np.array(error) ** 2).mean()   \n",
        "        if (iteration % 10000) == 0:\n",
        "            print(mse)"
      ],
      "execution_count": 0,
      "outputs": []
    },
    {
      "cell_type": "code",
      "metadata": {
        "id": "RwsN0DVJ0bY-",
        "colab_type": "code",
        "colab": {
          "base_uri": "https://localhost:8080/",
          "height": 34
        },
        "outputId": "56c16e48-4e9d-4609-c918-acd853455fa7"
      },
      "source": [
        "sgd()"
      ],
      "execution_count": 12,
      "outputs": [
        {
          "output_type": "stream",
          "text": [
            "1.4367202141111393\n"
          ],
          "name": "stdout"
        }
      ]
    },
    {
      "cell_type": "code",
      "metadata": {
        "id": "MCFFTMgW0xhP",
        "colab_type": "code",
        "colab": {
          "base_uri": "https://localhost:8080/",
          "height": 187
        },
        "outputId": "8ca01b99-3893-43db-8bbc-2ab19270529c"
      },
      "source": [
        "\n",
        "predictions = latent_user_preferences.dot(latent_item_features.T)\n",
        "predictions"
      ],
      "execution_count": 13,
      "outputs": [
        {
          "output_type": "execute_result",
          "data": {
            "text/plain": [
              "array([[ 7.798,  1.406, -0.497,  5.346,  4.079],\n",
              "       [ 3.514,  2.531,  9.778,  5.879,  7.395],\n",
              "       [ 7.873,  2.6  ,  5.721,  7.557,  7.575],\n",
              "       [ 8.193,  2.937,  7.173,  8.287,  8.561],\n",
              "       [ 1.478,  1.872,  8.369,  3.949,  5.475],\n",
              "       [ 2.283,  1.449,  5.321,  3.462,  4.231],\n",
              "       [ 3.316,  1.811,  6.181,  4.491,  5.286],\n",
              "       [ 8.275,  2.2  ,  3.205,  6.968,  6.402],\n",
              "       [ 3.717,  1.759,  5.504,  4.54 ,  5.134],\n",
              "       [ 3.003,  1.38 ,  4.228,  3.592,  4.026]])"
            ]
          },
          "metadata": {
            "tags": []
          },
          "execution_count": 13
        }
      ]
    },
    {
      "cell_type": "code",
      "metadata": {
        "id": "Aoa69y5V0zpN",
        "colab_type": "code",
        "colab": {}
      },
      "source": [
        "values = [zip(user_ratings[i], predictions[i]) for i in range(predictions.shape[0])]\n",
        "comparison_data = pd.DataFrame(values)\n",
        "comparison_data.columns = data.columns"
      ],
      "execution_count": 0,
      "outputs": []
    },
    {
      "cell_type": "code",
      "metadata": {
        "id": "GSFdSSRD05EI",
        "colab_type": "code",
        "colab": {
          "base_uri": "https://localhost:8080/",
          "height": 359
        },
        "outputId": "13a9e90c-7201-4cd9-a2fa-d9fdbfd76835"
      },
      "source": [
        "\n",
        "comparison_data"
      ],
      "execution_count": 15,
      "outputs": [
        {
          "output_type": "execute_result",
          "data": {
            "text/html": [
              "<div>\n",
              "<style scoped>\n",
              "    .dataframe tbody tr th:only-of-type {\n",
              "        vertical-align: middle;\n",
              "    }\n",
              "\n",
              "    .dataframe tbody tr th {\n",
              "        vertical-align: top;\n",
              "    }\n",
              "\n",
              "    .dataframe thead th {\n",
              "        text-align: right;\n",
              "    }\n",
              "</style>\n",
              "<table border=\"1\" class=\"dataframe\">\n",
              "  <thead>\n",
              "    <tr style=\"text-align: right;\">\n",
              "      <th></th>\n",
              "      <th>The Call of Cthulhu</th>\n",
              "      <th>Frankenstein</th>\n",
              "      <th>Dracula</th>\n",
              "      <th>Neuromancer</th>\n",
              "      <th>Space Odyssey</th>\n",
              "    </tr>\n",
              "  </thead>\n",
              "  <tbody>\n",
              "    <tr>\n",
              "      <th>0</th>\n",
              "      <td>(8.0, 7.798100588912573)</td>\n",
              "      <td>(2.0, 1.4060796490147416)</td>\n",
              "      <td>(nan, -0.49663903581604735)</td>\n",
              "      <td>(5.0, 5.346391210821107)</td>\n",
              "      <td>(4.0, 4.07903428107082)</td>\n",
              "    </tr>\n",
              "    <tr>\n",
              "      <th>1</th>\n",
              "      <td>(3.0, 3.513611084661923)</td>\n",
              "      <td>(2.0, 2.5309264604716892)</td>\n",
              "      <td>(nan, 9.777886726153431)</td>\n",
              "      <td>(7.0, 5.878802971151284)</td>\n",
              "      <td>(7.0, 7.394626443537732)</td>\n",
              "    </tr>\n",
              "    <tr>\n",
              "      <th>2</th>\n",
              "      <td>(9.0, 7.873225876245922)</td>\n",
              "      <td>(nan, 2.600054015272773)</td>\n",
              "      <td>(7.0, 5.720951164708522)</td>\n",
              "      <td>(8.0, 7.556619288602486)</td>\n",
              "      <td>(5.0, 7.575359969844888)</td>\n",
              "    </tr>\n",
              "    <tr>\n",
              "      <th>3</th>\n",
              "      <td>(nan, 8.19276267527872)</td>\n",
              "      <td>(nan, 2.937023274325186)</td>\n",
              "      <td>(7.0, 7.173152144449818)</td>\n",
              "      <td>(8.0, 8.286565001487157)</td>\n",
              "      <td>(9.0, 8.560624043360434)</td>\n",
              "    </tr>\n",
              "    <tr>\n",
              "      <th>4</th>\n",
              "      <td>(nan, 1.4781798324457358)</td>\n",
              "      <td>(1.0, 1.8719600205810285)</td>\n",
              "      <td>(8.0, 8.368530416062397)</td>\n",
              "      <td>(3.0, 3.949388555408513)</td>\n",
              "      <td>(7.0, 5.474901027719156)</td>\n",
              "    </tr>\n",
              "    <tr>\n",
              "      <th>5</th>\n",
              "      <td>(2.0, 2.2828773872212613)</td>\n",
              "      <td>(3.0, 1.4486568604876837)</td>\n",
              "      <td>(5.0, 5.321090592177557)</td>\n",
              "      <td>(nan, 3.4616251620274174)</td>\n",
              "      <td>(nan, 4.2311978306738425)</td>\n",
              "    </tr>\n",
              "    <tr>\n",
              "      <th>6</th>\n",
              "      <td>(4.0, 3.315808956508669)</td>\n",
              "      <td>(2.0, 1.8105479985944275)</td>\n",
              "      <td>(nan, 6.181168783244281)</td>\n",
              "      <td>(2.0, 4.491013416363289)</td>\n",
              "      <td>(7.0, 5.285895298806231)</td>\n",
              "    </tr>\n",
              "    <tr>\n",
              "      <th>7</th>\n",
              "      <td>(7.0, 8.275398098554046)</td>\n",
              "      <td>(1.0, 2.200041683812154)</td>\n",
              "      <td>(2.0, 3.204507143902677)</td>\n",
              "      <td>(7.0, 6.9682078920038055)</td>\n",
              "      <td>(9.0, 6.401871764980757)</td>\n",
              "    </tr>\n",
              "    <tr>\n",
              "      <th>8</th>\n",
              "      <td>(3.0, 3.7169801741529636)</td>\n",
              "      <td>(3.0, 1.7592047023171675)</td>\n",
              "      <td>(nan, 5.5036737170400825)</td>\n",
              "      <td>(7.0, 4.539878278608792)</td>\n",
              "      <td>(3.0, 5.133531970752895)</td>\n",
              "    </tr>\n",
              "    <tr>\n",
              "      <th>9</th>\n",
              "      <td>(4.0, 3.0030664263863898)</td>\n",
              "      <td>(nan, 1.3798936989230564)</td>\n",
              "      <td>(5.0, 4.228236830199457)</td>\n",
              "      <td>(3.0, 3.5921579040820237)</td>\n",
              "      <td>(3.0, 4.026229289942425)</td>\n",
              "    </tr>\n",
              "  </tbody>\n",
              "</table>\n",
              "</div>"
            ],
            "text/plain": [
              "         The Call of Cthulhu  ...              Space Odyssey\n",
              "0   (8.0, 7.798100588912573)  ...    (4.0, 4.07903428107082)\n",
              "1   (3.0, 3.513611084661923)  ...   (7.0, 7.394626443537732)\n",
              "2   (9.0, 7.873225876245922)  ...   (5.0, 7.575359969844888)\n",
              "3    (nan, 8.19276267527872)  ...   (9.0, 8.560624043360434)\n",
              "4  (nan, 1.4781798324457358)  ...   (7.0, 5.474901027719156)\n",
              "5  (2.0, 2.2828773872212613)  ...  (nan, 4.2311978306738425)\n",
              "6   (4.0, 3.315808956508669)  ...   (7.0, 5.285895298806231)\n",
              "7   (7.0, 8.275398098554046)  ...   (9.0, 6.401871764980757)\n",
              "8  (3.0, 3.7169801741529636)  ...   (3.0, 5.133531970752895)\n",
              "9  (4.0, 3.0030664263863898)  ...   (3.0, 4.026229289942425)\n",
              "\n",
              "[10 rows x 5 columns]"
            ]
          },
          "metadata": {
            "tags": []
          },
          "execution_count": 15
        }
      ]
    }
  ]
}