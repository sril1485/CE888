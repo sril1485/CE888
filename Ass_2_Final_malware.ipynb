{
  "nbformat": 4,
  "nbformat_minor": 0,
  "metadata": {
    "colab": {
      "name": "Ass_2_Final_malware.ipynb",
      "provenance": [],
      "collapsed_sections": [],
      "machine_shape": "hm",
      "authorship_tag": "ABX9TyP4xSHpv3URWpV2mRp6EEkp",
      "include_colab_link": true
    },
    "kernelspec": {
      "name": "python3",
      "display_name": "Python 3"
    },
    "accelerator": "GPU"
  },
  "cells": [
    {
      "cell_type": "markdown",
      "metadata": {
        "id": "view-in-github",
        "colab_type": "text"
      },
      "source": [
        "<a href=\"https://colab.research.google.com/github/sril1485/CE888/blob/master/Ass_2_Final_malware.ipynb\" target=\"_parent\"><img src=\"https://colab.research.google.com/assets/colab-badge.svg\" alt=\"Open In Colab\"/></a>"
      ]
    },
    {
      "cell_type": "code",
      "metadata": {
        "id": "pf-Ih8jdLtng",
        "colab_type": "code",
        "outputId": "d3559c30-fd33-445f-dd00-e4ac44c56797",
        "colab": {
          "base_uri": "https://localhost:8080/",
          "height": 196
        }
      },
      "source": [
        "!pip install kaggle"
      ],
      "execution_count": 0,
      "outputs": [
        {
          "output_type": "stream",
          "text": [
            "Requirement already satisfied: kaggle in /usr/local/lib/python3.6/dist-packages (1.5.6)\n",
            "Requirement already satisfied: six>=1.10 in /usr/local/lib/python3.6/dist-packages (from kaggle) (1.12.0)\n",
            "Requirement already satisfied: python-slugify in /usr/local/lib/python3.6/dist-packages (from kaggle) (4.0.0)\n",
            "Requirement already satisfied: requests in /usr/local/lib/python3.6/dist-packages (from kaggle) (2.21.0)\n",
            "Requirement already satisfied: python-dateutil in /usr/local/lib/python3.6/dist-packages (from kaggle) (2.8.1)\n",
            "Requirement already satisfied: urllib3<1.25,>=1.21.1 in /usr/local/lib/python3.6/dist-packages (from kaggle) (1.24.3)\n",
            "Requirement already satisfied: tqdm in /usr/local/lib/python3.6/dist-packages (from kaggle) (4.38.0)\n",
            "Requirement already satisfied: certifi in /usr/local/lib/python3.6/dist-packages (from kaggle) (2020.4.5.1)\n",
            "Requirement already satisfied: text-unidecode>=1.3 in /usr/local/lib/python3.6/dist-packages (from python-slugify->kaggle) (1.3)\n",
            "Requirement already satisfied: chardet<3.1.0,>=3.0.2 in /usr/local/lib/python3.6/dist-packages (from requests->kaggle) (3.0.4)\n",
            "Requirement already satisfied: idna<2.9,>=2.5 in /usr/local/lib/python3.6/dist-packages (from requests->kaggle) (2.8)\n"
          ],
          "name": "stdout"
        }
      ]
    },
    {
      "cell_type": "code",
      "metadata": {
        "id": "atV-5LJTNZ05",
        "colab_type": "code",
        "colab": {}
      },
      "source": [
        "!mkdir .kaggle"
      ],
      "execution_count": 0,
      "outputs": []
    },
    {
      "cell_type": "code",
      "metadata": {
        "id": "rCDeZpDENaCZ",
        "colab_type": "code",
        "colab": {}
      },
      "source": [
        "import json\n",
        "token = {\"username\":\"srinidhikarthick\",\"key\":\"15467a092669b85df36db57586c2dee5\"}\n",
        "with open('/content/.kaggle/kaggle.json', 'w') as file:\n",
        "    json.dump(token, file)"
      ],
      "execution_count": 0,
      "outputs": []
    },
    {
      "cell_type": "code",
      "metadata": {
        "id": "cJTEQ50PNZ3n",
        "colab_type": "code",
        "outputId": "813ba8cc-82fc-48bf-d3f2-1bda48d7b7de",
        "colab": {
          "base_uri": "https://localhost:8080/",
          "height": 33
        }
      },
      "source": [
        "!cp /content/.kaggle/kaggle.json ~/.kaggle/kaggle.json"
      ],
      "execution_count": 0,
      "outputs": [
        {
          "output_type": "stream",
          "text": [
            "cp: cannot create regular file '/root/.kaggle/kaggle.json': No such file or directory\n"
          ],
          "name": "stdout"
        }
      ]
    },
    {
      "cell_type": "code",
      "metadata": {
        "id": "m-yXK1lPNZ6Y",
        "colab_type": "code",
        "outputId": "50947ab7-0e75-49f4-904c-d17fd767d3d0",
        "colab": {
          "base_uri": "https://localhost:8080/",
          "height": 147
        }
      },
      "source": [
        "!kaggle config set -n path -v{/content}"
      ],
      "execution_count": 0,
      "outputs": [
        {
          "output_type": "stream",
          "text": [
            "Traceback (most recent call last):\n",
            "  File \"/usr/local/bin/kaggle\", line 5, in <module>\n",
            "    from kaggle.cli import main\n",
            "  File \"/usr/local/lib/python2.7/dist-packages/kaggle/__init__.py\", line 23, in <module>\n",
            "    api.authenticate()\n",
            "  File \"/usr/local/lib/python2.7/dist-packages/kaggle/api/kaggle_api_extended.py\", line 146, in authenticate\n",
            "    self.config_file, self.config_dir))\n",
            "IOError: Could not find kaggle.json. Make sure it's located in /root/.kaggle. Or use the environment method.\n"
          ],
          "name": "stdout"
        }
      ]
    },
    {
      "cell_type": "code",
      "metadata": {
        "id": "wVw435SyN7yZ",
        "colab_type": "code",
        "outputId": "12caa70b-e916-4cd9-b600-9e8b8e23c1ef",
        "colab": {
          "base_uri": "https://localhost:8080/",
          "height": 180
        }
      },
      "source": [
        "import os\n",
        "\n",
        "os.environ['KAGGLE_USERNAME'] = \"srinidhikarthick\" # username from the json file\n",
        "\n",
        "os.environ['KAGGLE_KEY'] = \"15467a092669b85df36db57586c2dee5\" # key from the json file\n",
        "\n",
        "!kaggle competitions download -c microsoft-malware-prediction -p /content"
      ],
      "execution_count": 2,
      "outputs": [
        {
          "output_type": "stream",
          "text": [
            "Warning: Looks like you're using an outdated API Version, please consider updating (server 1.5.6 / client 1.5.4)\n",
            "Downloading test.csv.zip to /content\n",
            " 98% 657M/672M [00:10<00:00, 35.2MB/s]\n",
            "100% 672M/672M [00:10<00:00, 69.0MB/s]\n",
            "Downloading train.csv.zip to /content\n",
            " 98% 755M/768M [00:10<00:00, 78.1MB/s]\n",
            "100% 768M/768M [00:10<00:00, 74.8MB/s]\n",
            "Downloading sample_submission.csv.zip to /content\n",
            " 92% 123M/134M [00:02<00:00, 52.4MB/s]\n",
            "100% 134M/134M [00:02<00:00, 66.4MB/s]\n"
          ],
          "name": "stdout"
        }
      ]
    },
    {
      "cell_type": "code",
      "metadata": {
        "id": "vuHVGOE1Ih_c",
        "colab_type": "code",
        "outputId": "35329cf5-16b0-48db-cfca-c5e624f9271a",
        "colab": {
          "base_uri": "https://localhost:8080/",
          "height": 180
        }
      },
      "source": [
        "!unzip \\*.zip"
      ],
      "execution_count": 3,
      "outputs": [
        {
          "output_type": "stream",
          "text": [
            "Archive:  sample_submission.csv.zip\n",
            "  inflating: sample_submission.csv   \n",
            "\n",
            "Archive:  test.csv.zip\n",
            "  inflating: test.csv                \n",
            "\n",
            "Archive:  train.csv.zip\n",
            "  inflating: train.csv               \n",
            "\n",
            "3 archives were successfully processed.\n"
          ],
          "name": "stdout"
        }
      ]
    },
    {
      "cell_type": "code",
      "metadata": {
        "id": "AfrUug8cNZ_4",
        "colab_type": "code",
        "outputId": "47d9d079-3dea-4bc7-bcda-5472be61d962",
        "colab": {
          "base_uri": "https://localhost:8080/",
          "height": 50
        }
      },
      "source": [
        "import pandas as pd\n",
        "train = pd.read_csv(\"train.csv\")"
      ],
      "execution_count": 4,
      "outputs": [
        {
          "output_type": "stream",
          "text": [
            "/usr/local/lib/python3.6/dist-packages/IPython/core/interactiveshell.py:2718: DtypeWarning: Columns (28) have mixed types.Specify dtype option on import or set low_memory=False.\n",
            "  interactivity=interactivity, compiler=compiler, result=result)\n"
          ],
          "name": "stderr"
        }
      ]
    },
    {
      "cell_type": "code",
      "metadata": {
        "id": "IxT12yLpMRC-",
        "colab_type": "code",
        "outputId": "74bfb351-bdaa-41ad-fd88-e9f74783f91d",
        "colab": {
          "base_uri": "https://localhost:8080/",
          "height": 33
        }
      },
      "source": [
        "train.shape"
      ],
      "execution_count": 5,
      "outputs": [
        {
          "output_type": "execute_result",
          "data": {
            "text/plain": [
              "(8921483, 83)"
            ]
          },
          "metadata": {
            "tags": []
          },
          "execution_count": 5
        }
      ]
    },
    {
      "cell_type": "code",
      "metadata": {
        "id": "PlK4IeGLRnyg",
        "colab_type": "code",
        "colab": {}
      },
      "source": [
        "import numpy as np\n",
        "## missing values for train data\n",
        "for i in train.columns:\n",
        "    if train[i].dtype == 'object':\n",
        "      train[i] = train[i].fillna(train[i].mode().iloc[0])\n",
        "    if (train[i].dtype == 'int' or train[i].dtype == 'float'):\n",
        "      train[i] = train[i].fillna(np.mean(train[i]))"
      ],
      "execution_count": 0,
      "outputs": []
    },
    {
      "cell_type": "code",
      "metadata": {
        "id": "qvI30NP_UIGC",
        "colab_type": "code",
        "colab": {}
      },
      "source": [
        "# replacing the categorical values into numerical values\n",
        "from sklearn.preprocessing import LabelEncoder\n",
        "lenc = LabelEncoder()\n",
        "for i in train.columns:\n",
        "    if (train[i].dtype == 'object'):\n",
        "      train[i] = lenc.fit_transform(train[i].astype('str'))\n",
        "      train[i] = train[i].astype('object')\n"
      ],
      "execution_count": 0,
      "outputs": []
    },
    {
      "cell_type": "code",
      "metadata": {
        "id": "xFABR58W8xok",
        "colab_type": "code",
        "outputId": "ba58ba56-c870-49fc-f456-4c13002cc25f",
        "colab": {
          "base_uri": "https://localhost:8080/",
          "height": 50
        }
      },
      "source": [
        "test = pd.read_csv(\"test.csv\")"
      ],
      "execution_count": 8,
      "outputs": [
        {
          "output_type": "stream",
          "text": [
            "/usr/local/lib/python3.6/dist-packages/IPython/core/interactiveshell.py:2718: DtypeWarning: Columns (28) have mixed types.Specify dtype option on import or set low_memory=False.\n",
            "  interactivity=interactivity, compiler=compiler, result=result)\n"
          ],
          "name": "stderr"
        }
      ]
    },
    {
      "cell_type": "code",
      "metadata": {
        "id": "a-Om2CgDVDyh",
        "colab_type": "code",
        "colab": {}
      },
      "source": [
        "#missing values for testing data\n",
        "for i in test.columns:\n",
        "    if test[i].dtype == 'object':\n",
        "      test[i] = test[i].fillna(train[i].mode().iloc[0])\n",
        "    if (test[i].dtype == 'int' or test[i].dtype == 'float'):\n",
        "      test[i] = train[i].fillna(np.mean(train[i]))"
      ],
      "execution_count": 0,
      "outputs": []
    },
    {
      "cell_type": "code",
      "metadata": {
        "id": "W51b2xhB8uyF",
        "colab_type": "code",
        "colab": {}
      },
      "source": [
        "# replacing the categorical values into numerical values\n",
        "for i in test.columns:\n",
        "    if (test[i].dtype == 'object'):\n",
        "      test[i] = lenc.fit_transform(test[i].astype('str'))\n",
        "      test[i] = test[i].astype('object')"
      ],
      "execution_count": 0,
      "outputs": []
    },
    {
      "cell_type": "code",
      "metadata": {
        "id": "VjNDnDll_75e",
        "colab_type": "code",
        "colab": {}
      },
      "source": [
        "#adding a new column called source to identify them as whether they belong to training or testing dataset\n",
        "train['source'] = 0\n",
        "test['source'] = 1"
      ],
      "execution_count": 0,
      "outputs": []
    },
    {
      "cell_type": "code",
      "metadata": {
        "id": "wGbNMopf-Jry",
        "colab_type": "code",
        "colab": {}
      },
      "source": [
        "## taking sample from training and test data\n",
        "training = train.sample(1200, random_state=11,replace=True)\n",
        "testing = test.sample(500, random_state=11,replace=True)"
      ],
      "execution_count": 0,
      "outputs": []
    },
    {
      "cell_type": "code",
      "metadata": {
        "id": "m9ToZOfzCNdD",
        "colab_type": "code",
        "colab": {}
      },
      "source": [
        "target = training['HasDetections']\n",
        "del training['HasDetections']"
      ],
      "execution_count": 0,
      "outputs": []
    },
    {
      "cell_type": "code",
      "metadata": {
        "id": "owT2UM5U_zBl",
        "colab_type": "code",
        "colab": {}
      },
      "source": [
        "## combining random samples\n",
        "combined = training.append(testing)\n",
        "y = combined['source']\n",
        "combined.drop('source',axis=1,inplace=True)"
      ],
      "execution_count": 0,
      "outputs": []
    },
    {
      "cell_type": "code",
      "metadata": {
        "id": "e_Ymcep-Ajje",
        "colab_type": "code",
        "outputId": "e7120dbc-7796-46a9-bbab-1d8f5651431e",
        "colab": {
          "base_uri": "https://localhost:8080/",
          "height": 277
        }
      },
      "source": [
        "from sklearn.ensemble import RandomForestRegressor\n",
        "from sklearn.ensemble import RandomForestClassifier\n",
        "from sklearn.model_selection import cross_val_score\n",
        "## modelling\n",
        "model = RandomForestClassifier(n_estimators = 50, max_depth = 5,min_samples_leaf = 5)\n",
        "drop_list = []\n",
        "\n",
        "for i in combined.columns:\n",
        "    score = cross_val_score(model,pd.DataFrame(combined[i]),y,cv=2,scoring='roc_auc')\n",
        "    if (np.mean(score) > 0.8):\n",
        "        drop_list.append(i)\n",
        "        print(i,np.mean(score))"
      ],
      "execution_count": 15,
      "outputs": [
        {
          "output_type": "stream",
          "text": [
            "EngineVersion 0.8603916666666667\n",
            "AppVersion 0.9851533333333333\n",
            "AvSigVersion 0.9273316666666667\n",
            "OsBuildLab 0.969355\n",
            "PuaMode 1.0\n",
            "SmartScreen 0.9849266666666667\n",
            "Census_ProcessorClass 1.0\n",
            "Census_PrimaryDiskTypeName 0.8647366666666667\n",
            "Census_ChassisTypeName 0.9828666666666668\n",
            "Census_PowerPlatformRoleName 0.99834\n",
            "Census_InternalBatteryType 0.9991433333333333\n",
            "Census_OSVersion 0.8465750000000001\n",
            "Census_OSBranch 0.8962366666666667\n",
            "Census_OSEdition 0.9571833333333333\n",
            "Census_GenuineStateName 0.9367049999999999\n",
            "Census_FlightRing 0.9835816666666666\n"
          ],
          "name": "stdout"
        }
      ]
    },
    {
      "cell_type": "code",
      "metadata": {
        "id": "FtQ5RujjA8Xv",
        "colab_type": "code",
        "outputId": "37ffef26-da77-41a7-9993-ca4506ca0627",
        "colab": {
          "base_uri": "https://localhost:8080/"
        }
      },
      "source": [
        "import matplotlib.pyplot as plt\n",
        "import seaborn as sns\n",
        "sns.distplot(training['EngineVersion'])\n",
        "sns.distplot(testing['EngineVersion'])\n",
        "#plt.show()"
      ],
      "execution_count": 0,
      "outputs": [
        {
          "output_type": "stream",
          "text": [
            "/usr/local/lib/python3.6/dist-packages/statsmodels/tools/_testing.py:19: FutureWarning: pandas.util.testing is deprecated. Use the functions in the public API at pandas.testing instead.\n",
            "  import pandas.util.testing as tm\n"
          ],
          "name": "stderr"
        },
        {
          "output_type": "execute_result",
          "data": {
            "text/plain": [
              "<matplotlib.axes._subplots.AxesSubplot at 0x7f92073d1390>"
            ]
          },
          "metadata": {
            "tags": []
          },
          "execution_count": 20
        },
        {
          "output_type": "display_data",
          "data": {
            "image/png": "[encoded data removed]",
            "text/plain": [
              "<Figure size 432x288 with 1 Axes>"
            ]
          },
          "metadata": {
            "tags": [],
            "needs_background": "light"
          }
        }
      ]
    },
    {
      "cell_type": "code",
      "metadata": {
        "id": "DMCK2a4mcFlq",
        "colab_type": "code",
        "outputId": "da63ec22-bbca-4298-f411-0da6fbcb8a6c",
        "colab": {
          "base_uri": "https://localhost:8080/"
        }
      },
      "source": [
        "import seaborn as sns\n",
        "sns.distplot(training['AppVersion'])\n",
        "sns.distplot(testing['AppVersion'])"
      ],
      "execution_count": 0,
      "outputs": [
        {
          "output_type": "execute_result",
          "data": {
            "text/plain": [
              "<matplotlib.axes._subplots.AxesSubplot at 0x7f91bfbedac8>"
            ]
          },
          "metadata": {
            "tags": []
          },
          "execution_count": 21
        },
        {
          "output_type": "display_data",
          "data": {
            "image/png": "[encoded data removed]",
            "text/plain": [
              "<Figure size 432x288 with 1 Axes>"
            ]
          },
          "metadata": {
            "tags": [],
            "needs_background": "light"
          }
        }
      ]
    },
    {
      "cell_type": "code",
      "metadata": {
        "id": "ih4mIvD2fwzo",
        "colab_type": "code",
        "outputId": "497c4785-f982-4266-92a9-ffe167f3df1e",
        "colab": {
          "base_uri": "https://localhost:8080/"
        }
      },
      "source": [
        "import seaborn as sns\n",
        "sns.distplot(training['AvSigVersion'])\n",
        "sns.distplot(testing['AvSigVersion'])\n"
      ],
      "execution_count": 0,
      "outputs": [
        {
          "output_type": "execute_result",
          "data": {
            "text/plain": [
              "<matplotlib.axes._subplots.AxesSubplot at 0x7f91ca243c88>"
            ]
          },
          "metadata": {
            "tags": []
          },
          "execution_count": 22
        },
        {
          "output_type": "display_data",
          "data": {
            "image/png": "[encoded data removed]",
            "text/plain": [
              "<Figure size 432x288 with 1 Axes>"
            ]
          },
          "metadata": {
            "tags": [],
            "needs_background": "light"
          }
        }
      ]
    },
    {
      "cell_type": "code",
      "metadata": {
        "id": "QHeeg4Ozf2an",
        "colab_type": "code",
        "outputId": "2c50126c-e2e0-4606-edec-d1a49cf18408",
        "colab": {
          "base_uri": "https://localhost:8080/"
        }
      },
      "source": [
        "import seaborn as sns\n",
        "sns.distplot(training['DefaultBrowsersIdentifier'])\n",
        "sns.distplot(testing['DefaultBrowsersIdentifier'])\n"
      ],
      "execution_count": 0,
      "outputs": [
        {
          "output_type": "execute_result",
          "data": {
            "text/plain": [
              "<matplotlib.axes._subplots.AxesSubplot at 0x7f91cc0bb5c0>"
            ]
          },
          "metadata": {
            "tags": []
          },
          "execution_count": 23
        },
        {
          "output_type": "display_data",
          "data": {
            "image/png": "[encoded data removed]",
            "text/plain": [
              "<Figure size 432x288 with 1 Axes>"
            ]
          },
          "metadata": {
            "tags": [],
            "needs_background": "light"
          }
        }
      ]
    },
    {
      "cell_type": "code",
      "metadata": {
        "id": "2UakCgB6f7b6",
        "colab_type": "code",
        "outputId": "2b77d0b4-071a-4a49-9056-a8cc28caa012",
        "colab": {
          "base_uri": "https://localhost:8080/"
        }
      },
      "source": [
        "import seaborn as sns\n",
        "sns.distplot(training['OsBuildLab'])\n",
        "sns.distplot(testing['OsBuildLab'])\n"
      ],
      "execution_count": 0,
      "outputs": [
        {
          "output_type": "execute_result",
          "data": {
            "text/plain": [
              "<matplotlib.axes._subplots.AxesSubplot at 0x7f92001b2860>"
            ]
          },
          "metadata": {
            "tags": []
          },
          "execution_count": 24
        },
        {
          "output_type": "display_data",
          "data": {
            "image/png": "[encoded data removed]",
            "text/plain": [
              "<Figure size 432x288 with 1 Axes>"
            ]
          },
          "metadata": {
            "tags": [],
            "needs_background": "light"
          }
        }
      ]
    },
    {
      "cell_type": "code",
      "metadata": {
        "id": "28H9WBfSf7_q",
        "colab_type": "code",
        "outputId": "f4afdc26-043e-4916-998b-4755bcc50aef",
        "colab": {
          "base_uri": "https://localhost:8080/"
        }
      },
      "source": [
        "import seaborn as sns\n",
        "sns.distplot(training['SMode'])\n",
        "sns.distplot(testing['SMode'])\n"
      ],
      "execution_count": 0,
      "outputs": [
        {
          "output_type": "execute_result",
          "data": {
            "text/plain": [
              "<matplotlib.axes._subplots.AxesSubplot at 0x7f91baf11ac8>"
            ]
          },
          "metadata": {
            "tags": []
          },
          "execution_count": 25
        },
        {
          "output_type": "display_data",
          "data": {
            "image/png": "[encoded data removed]",
            "text/plain": [
              "<Figure size 432x288 with 1 Axes>"
            ]
          },
          "metadata": {
            "tags": [],
            "needs_background": "light"
          }
        }
      ]
    },
    {
      "cell_type": "code",
      "metadata": {
        "id": "lo9uHXoWf8YJ",
        "colab_type": "code",
        "outputId": "1972d26d-b6ca-40dd-e7b3-d0fd253e6a77",
        "colab": {
          "base_uri": "https://localhost:8080/"
        }
      },
      "source": [
        "import seaborn as sns\n",
        "sns.distplot(training['Census_ChassisTypeName'])\n",
        "sns.distplot(testing['Census_ChassisTypeName'])\n"
      ],
      "execution_count": 0,
      "outputs": [
        {
          "output_type": "execute_result",
          "data": {
            "text/plain": [
              "<matplotlib.axes._subplots.AxesSubplot at 0x7f91bd0acf28>"
            ]
          },
          "metadata": {
            "tags": []
          },
          "execution_count": 26
        },
        {
          "output_type": "display_data",
          "data": {
            "image/png": "[encoded data removed]",
            "text/plain": [
              "<Figure size 432x288 with 1 Axes>"
            ]
          },
          "metadata": {
            "tags": [],
            "needs_background": "light"
          }
        }
      ]
    },
    {
      "cell_type": "code",
      "metadata": {
        "id": "HoK8RpZsf8tg",
        "colab_type": "code",
        "outputId": "fdd36723-0814-4547-c796-312360737439",
        "colab": {
          "base_uri": "https://localhost:8080/"
        }
      },
      "source": [
        "import seaborn as sns\n",
        "sns.distplot(training['Census_InternalBatteryType'])\n",
        "sns.distplot(testing['Census_InternalBatteryType'])\n"
      ],
      "execution_count": 0,
      "outputs": [
        {
          "output_type": "execute_result",
          "data": {
            "text/plain": [
              "<matplotlib.axes._subplots.AxesSubplot at 0x7f91d92f1eb8>"
            ]
          },
          "metadata": {
            "tags": []
          },
          "execution_count": 27
        },
        {
          "output_type": "display_data",
          "data": {
            "image/png": "[encoded data removed]",
            "text/plain": [
              "<Figure size 432x288 with 1 Axes>"
            ]
          },
          "metadata": {
            "tags": [],
            "needs_background": "light"
          }
        }
      ]
    },
    {
      "cell_type": "code",
      "metadata": {
        "id": "u4hNfzeDf9DJ",
        "colab_type": "code",
        "outputId": "67d422e0-204a-4607-b8ea-57bcce107a0c",
        "colab": {
          "base_uri": "https://localhost:8080/"
        }
      },
      "source": [
        "import seaborn as sns\n",
        "sns.distplot(training['Census_OSVersion'])\n",
        "sns.distplot(testing['Census_OSVersion'])\n"
      ],
      "execution_count": 0,
      "outputs": [
        {
          "output_type": "execute_result",
          "data": {
            "text/plain": [
              "<matplotlib.axes._subplots.AxesSubplot at 0x7f91ccffafd0>"
            ]
          },
          "metadata": {
            "tags": []
          },
          "execution_count": 28
        },
        {
          "output_type": "display_data",
          "data": {
            "image/png": "[encoded data removed]",
            "text/plain": [
              "<Figure size 432x288 with 1 Axes>"
            ]
          },
          "metadata": {
            "tags": [],
            "needs_background": "light"
          }
        }
      ]
    },
    {
      "cell_type": "code",
      "metadata": {
        "id": "I5I-jLYDf9ao",
        "colab_type": "code",
        "outputId": "ea7a1a94-42bd-469f-df79-0dcd495c5cdc",
        "colab": {
          "base_uri": "https://localhost:8080/"
        }
      },
      "source": [
        "import seaborn as sns\n",
        "sns.distplot(training['Census_OSBranch'])\n",
        "sns.distplot(testing['Census_OSBranch'])\n"
      ],
      "execution_count": 0,
      "outputs": [
        {
          "output_type": "execute_result",
          "data": {
            "text/plain": [
              "<matplotlib.axes._subplots.AxesSubplot at 0x7f91d33e9278>"
            ]
          },
          "metadata": {
            "tags": []
          },
          "execution_count": 29
        },
        {
          "output_type": "display_data",
          "data": {
            "image/png": "[encoded data removed]",
            "text/plain": [
              "<Figure size 432x288 with 1 Axes>"
            ]
          },
          "metadata": {
            "tags": [],
            "needs_background": "light"
          }
        }
      ]
    },
    {
      "cell_type": "code",
      "metadata": {
        "id": "bn0BpRMmf9xw",
        "colab_type": "code",
        "outputId": "dace5308-f273-4926-807f-c34fbfd80bcc",
        "colab": {
          "base_uri": "https://localhost:8080/"
        }
      },
      "source": [
        "import seaborn as sns\n",
        "sns.distplot(training['Census_OSBuildRevision'])\n",
        "sns.distplot(testing['Census_OSBuildRevision'])\n"
      ],
      "execution_count": 0,
      "outputs": [
        {
          "output_type": "execute_result",
          "data": {
            "text/plain": [
              "<matplotlib.axes._subplots.AxesSubplot at 0x7f91d444af60>"
            ]
          },
          "metadata": {
            "tags": []
          },
          "execution_count": 30
        },
        {
          "output_type": "display_data",
          "data": {
            "image/png": "[encoded data removed]",
            "text/plain": [
              "<Figure size 432x288 with 1 Axes>"
            ]
          },
          "metadata": {
            "tags": [],
            "needs_background": "light"
          }
        }
      ]
    },
    {
      "cell_type": "code",
      "metadata": {
        "id": "laaAgTmef-Gh",
        "colab_type": "code",
        "outputId": "59bf85d2-2072-43d9-ded1-0f867b14938c",
        "colab": {
          "base_uri": "https://localhost:8080/"
        }
      },
      "source": [
        "import seaborn as sns\n",
        "sns.distplot(training['Census_OSEdition'])\n",
        "sns.distplot(testing['Census_OSEdition'])\n"
      ],
      "execution_count": 0,
      "outputs": [
        {
          "output_type": "execute_result",
          "data": {
            "text/plain": [
              "<matplotlib.axes._subplots.AxesSubplot at 0x7f91fea94da0>"
            ]
          },
          "metadata": {
            "tags": []
          },
          "execution_count": 31
        },
        {
          "output_type": "display_data",
          "data": {
            "image/png": "[encoded data removed]",
            "text/plain": [
              "<Figure size 432x288 with 1 Axes>"
            ]
          },
          "metadata": {
            "tags": [],
            "needs_background": "light"
          }
        }
      ]
    },
    {
      "cell_type": "code",
      "metadata": {
        "id": "GY5F3PnQf-Xo",
        "colab_type": "code",
        "outputId": "ba7690e0-7700-40a7-f834-a8598faeea70",
        "colab": {
          "base_uri": "https://localhost:8080/"
        }
      },
      "source": [
        "import seaborn as sns\n",
        "sns.distplot(training['Census_OSSkuName'])\n",
        "sns.distplot(testing['Census_OSSkuName'])\n"
      ],
      "execution_count": 0,
      "outputs": [
        {
          "output_type": "execute_result",
          "data": {
            "text/plain": [
              "<matplotlib.axes._subplots.AxesSubplot at 0x7f91c526cc18>"
            ]
          },
          "metadata": {
            "tags": []
          },
          "execution_count": 32
        },
        {
          "output_type": "display_data",
          "data": {
            "image/png": "[encoded data removed]",
            "text/plain": [
              "<Figure size 432x288 with 1 Axes>"
            ]
          },
          "metadata": {
            "tags": [],
            "needs_background": "light"
          }
        }
      ]
    },
    {
      "cell_type": "code",
      "metadata": {
        "id": "g7JMwu5sf-sp",
        "colab_type": "code",
        "outputId": "87aabbd3-121f-4118-c9e8-67f8ce253d54",
        "colab": {
          "base_uri": "https://localhost:8080/"
        }
      },
      "source": [
        "import seaborn as sns\n",
        "sns.distplot(training['Census_IsFlightingInternal'])\n",
        "sns.distplot(testing['Census_IsFlightingInternal'])\n"
      ],
      "execution_count": 0,
      "outputs": [
        {
          "output_type": "execute_result",
          "data": {
            "text/plain": [
              "<matplotlib.axes._subplots.AxesSubplot at 0x7f91ce2cc9e8>"
            ]
          },
          "metadata": {
            "tags": []
          },
          "execution_count": 33
        },
        {
          "output_type": "display_data",
          "data": {
            "image/png": "[encoded data removed]",
            "text/plain": [
              "<Figure size 432x288 with 1 Axes>"
            ]
          },
          "metadata": {
            "tags": [],
            "needs_background": "light"
          }
        }
      ]
    },
    {
      "cell_type": "code",
      "metadata": {
        "id": "faMHKWVgf_N5",
        "colab_type": "code",
        "outputId": "9d7dd9ec-f653-4fd4-9058-967ecb908867",
        "colab": {
          "base_uri": "https://localhost:8080/"
        }
      },
      "source": [
        "import seaborn as sns\n",
        "sns.distplot(training['Census_FlightRing'])\n",
        "sns.distplot(testing['Census_FlightRing'])\n"
      ],
      "execution_count": 0,
      "outputs": [
        {
          "output_type": "execute_result",
          "data": {
            "text/plain": [
              "<matplotlib.axes._subplots.AxesSubplot at 0x7f91c37f8ac8>"
            ]
          },
          "metadata": {
            "tags": []
          },
          "execution_count": 34
        },
        {
          "output_type": "display_data",
          "data": {
            "image/png": "[encoded data removed]",
            "text/plain": [
              "<Figure size 432x288 with 1 Axes>"
            ]
          },
          "metadata": {
            "tags": [],
            "needs_background": "light"
          }
        }
      ]
    },
    {
      "cell_type": "code",
      "metadata": {
        "id": "Z0E5engGf_eJ",
        "colab_type": "code",
        "outputId": "4560fc47-3050-415a-ac93-a31794613206",
        "colab": {
          "base_uri": "https://localhost:8080/"
        }
      },
      "source": [
        "import seaborn as sns\n",
        "sns.distplot(training['Census_ThresholdOptIn'])\n",
        "sns.distplot(testing['Census_ThresholdOptIn'])\n"
      ],
      "execution_count": 0,
      "outputs": [
        {
          "output_type": "execute_result",
          "data": {
            "text/plain": [
              "<matplotlib.axes._subplots.AxesSubplot at 0x7f91c360e518>"
            ]
          },
          "metadata": {
            "tags": []
          },
          "execution_count": 35
        },
        {
          "output_type": "display_data",
          "data": {
            "image/png": "[encoded data removed]",
            "text/plain": [
              "<Figure size 432x288 with 1 Axes>"
            ]
          },
          "metadata": {
            "tags": [],
            "needs_background": "light"
          }
        }
      ]
    },
    {
      "cell_type": "code",
      "metadata": {
        "id": "_WnQuV1sf_si",
        "colab_type": "code",
        "outputId": "f4732a53-e721-4d03-9fdb-33e989eabeb6",
        "colab": {
          "base_uri": "https://localhost:8080/"
        }
      },
      "source": [
        "import seaborn as sns\n",
        "sns.distplot(training['Census_IsWIMBootEnabled'])\n",
        "sns.distplot(testing['Census_IsWIMBootEnabled'])\n"
      ],
      "execution_count": 0,
      "outputs": [
        {
          "output_type": "execute_result",
          "data": {
            "text/plain": [
              "<matplotlib.axes._subplots.AxesSubplot at 0x7f91c360ebe0>"
            ]
          },
          "metadata": {
            "tags": []
          },
          "execution_count": 36
        },
        {
          "output_type": "display_data",
          "data": {
            "image/png": "[encoded data removed]",
            "text/plain": [
              "<Figure size 432x288 with 1 Axes>"
            ]
          },
          "metadata": {
            "tags": [],
            "needs_background": "light"
          }
        }
      ]
    },
    {
      "cell_type": "code",
      "metadata": {
        "id": "wuWftWw-g5zR",
        "colab_type": "code",
        "outputId": "c1fd07f5-703e-45e5-ecb0-1c9eeb4448c2",
        "colab": {
          "base_uri": "https://localhost:8080/"
        }
      },
      "source": [
        "plt.hist(training['EngineVersion'])\n",
        "plt.hist(testing['EngineVersion'])\n",
        "plt.show()"
      ],
      "execution_count": 0,
      "outputs": [
        {
          "output_type": "display_data",
          "data": {
            "image/png": "[encoded data removed]",
            "text/plain": [
              "<Figure size 432x288 with 1 Axes>"
            ]
          },
          "metadata": {
            "tags": [],
            "needs_background": "light"
          }
        }
      ]
    },
    {
      "cell_type": "code",
      "metadata": {
        "id": "dBIal31ihHmv",
        "colab_type": "code",
        "outputId": "59227b70-fa94-48fa-b792-cdc7943d438c",
        "colab": {
          "base_uri": "https://localhost:8080/"
        }
      },
      "source": [
        "import seaborn as sns\n",
        "plt.hist(training['AppVersion'])\n",
        "plt.hist(testing['AppVersion'])\n"
      ],
      "execution_count": 0,
      "outputs": [
        {
          "output_type": "execute_result",
          "data": {
            "text/plain": [
              "(array([ 101.,  443.,  523.,   89.,  163., 4677.,   37.,  151.,  253.,\n",
              "          63.]),\n",
              " array([0.0, 11.8, 23.6, 35.400000000000006, 47.2, 59.0, 70.80000000000001,\n",
              "        82.60000000000001, 94.4, 106.2, 118.0], dtype=object),\n",
              " <a list of 10 Patch objects>)"
            ]
          },
          "metadata": {
            "tags": []
          },
          "execution_count": 38
        },
        {
          "output_type": "display_data",
          "data": {
            "image/png": "[encoded data removed]",
            "text/plain": [
              "<Figure size 432x288 with 1 Axes>"
            ]
          },
          "metadata": {
            "tags": [],
            "needs_background": "light"
          }
        }
      ]
    },
    {
      "cell_type": "code",
      "metadata": {
        "id": "HOZKcNnqh9Ph",
        "colab_type": "code",
        "outputId": "ce6e0542-2c8a-440b-f5fc-95ec8f7da0fb",
        "colab": {
          "base_uri": "https://localhost:8080/"
        }
      },
      "source": [
        "import seaborn as sns\n",
        "plt.hist(training['AvSigVersion'])\n",
        "plt.hist(testing['AvSigVersion'])\n"
      ],
      "execution_count": 0,
      "outputs": [
        {
          "output_type": "execute_result",
          "data": {
            "text/plain": [
              "(array([5.000e+00, 8.000e+00, 5.000e+01, 1.500e+01, 7.600e+01, 3.700e+01,\n",
              "        1.760e+02, 1.590e+02, 6.900e+02, 5.284e+03]),\n",
              " array([41.0, 972.5, 1904.0, 2835.5, 3767.0, 4698.5, 5630.0, 6561.5,\n",
              "        7493.0, 8424.5, 9356.0], dtype=object),\n",
              " <a list of 10 Patch objects>)"
            ]
          },
          "metadata": {
            "tags": []
          },
          "execution_count": 39
        },
        {
          "output_type": "display_data",
          "data": {
            "image/png": "[encoded data removed]",
            "text/plain": [
              "<Figure size 432x288 with 1 Axes>"
            ]
          },
          "metadata": {
            "tags": [],
            "needs_background": "light"
          }
        }
      ]
    },
    {
      "cell_type": "code",
      "metadata": {
        "id": "pYpGusmSh_Pw",
        "colab_type": "code",
        "outputId": "bdb51ae5-0e3b-4f5c-dc19-b755dc889cfd",
        "colab": {
          "base_uri": "https://localhost:8080/"
        }
      },
      "source": [
        "import seaborn as sns\n",
        "plt.hist(training['DefaultBrowsersIdentifier'])\n",
        "plt.hist(testing['DefaultBrowsersIdentifier'])\n"
      ],
      "execution_count": 0,
      "outputs": [
        {
          "output_type": "execute_result",
          "data": {
            "text/plain": [
              "(array([  76.,    8.,   19.,   27.,   11., 6246.,   30.,   27.,   13.,\n",
              "          43.]),\n",
              " array([   8. ,  326.7,  645.4,  964.1, 1282.8, 1601.5, 1920.2, 2238.9,\n",
              "        2557.6, 2876.3, 3195. ]),\n",
              " <a list of 10 Patch objects>)"
            ]
          },
          "metadata": {
            "tags": []
          },
          "execution_count": 40
        },
        {
          "output_type": "display_data",
          "data": {
            "image/png": "[encoded data removed]",
            "text/plain": [
              "<Figure size 432x288 with 1 Axes>"
            ]
          },
          "metadata": {
            "tags": [],
            "needs_background": "light"
          }
        }
      ]
    },
    {
      "cell_type": "code",
      "metadata": {
        "id": "xpjDoDZ3iBMY",
        "colab_type": "code",
        "outputId": "6a543eca-4113-40be-9179-f2c3a970c555",
        "colab": {
          "base_uri": "https://localhost:8080/"
        }
      },
      "source": [
        "import seaborn as sns\n",
        "plt.hist(training['OsBuildLab'])\n",
        "plt.hist(testing['OsBuildLab'])\n"
      ],
      "execution_count": 0,
      "outputs": [
        {
          "output_type": "execute_result",
          "data": {
            "text/plain": [
              "(array([1.850e+02, 3.050e+02, 3.040e+02, 1.339e+03, 3.975e+03, 2.560e+02,\n",
              "        2.000e+00, 3.000e+00, 4.600e+01, 8.500e+01]),\n",
              " array([0.0, 67.2, 134.4, 201.60000000000002, 268.8, 336.0,\n",
              "        403.20000000000005, 470.40000000000003, 537.6, 604.8000000000001,\n",
              "        672.0], dtype=object),\n",
              " <a list of 10 Patch objects>)"
            ]
          },
          "metadata": {
            "tags": []
          },
          "execution_count": 41
        },
        {
          "output_type": "display_data",
          "data": {
            "image/png": "[encoded data removed]",
            "text/plain": [
              "<Figure size 432x288 with 1 Axes>"
            ]
          },
          "metadata": {
            "tags": [],
            "needs_background": "light"
          }
        }
      ]
    },
    {
      "cell_type": "code",
      "metadata": {
        "id": "be3qd-XsiDCo",
        "colab_type": "code",
        "outputId": "0272972b-8f90-485a-9510-ffefae7c5635",
        "colab": {
          "base_uri": "https://localhost:8080/"
        }
      },
      "source": [
        "import seaborn as sns\n",
        "plt.hist(training['SMode'])\n",
        "plt.hist(testing['SMode'])\n"
      ],
      "execution_count": 0,
      "outputs": [
        {
          "output_type": "execute_result",
          "data": {
            "text/plain": [
              "(array([6.496e+03, 0.000e+00, 0.000e+00, 0.000e+00, 0.000e+00, 0.000e+00,\n",
              "        0.000e+00, 0.000e+00, 0.000e+00, 4.000e+00]),\n",
              " array([0. , 0.1, 0.2, 0.3, 0.4, 0.5, 0.6, 0.7, 0.8, 0.9, 1. ]),\n",
              " <a list of 10 Patch objects>)"
            ]
          },
          "metadata": {
            "tags": []
          },
          "execution_count": 42
        },
        {
          "output_type": "display_data",
          "data": {
            "image/png": "[encoded data removed]",
            "text/plain": [
              "<Figure size 432x288 with 1 Axes>"
            ]
          },
          "metadata": {
            "tags": [],
            "needs_background": "light"
          }
        }
      ]
    },
    {
      "cell_type": "code",
      "metadata": {
        "id": "42GmPL8liFG4",
        "colab_type": "code",
        "outputId": "fefbf654-3f64-4cbb-cfa1-79ff92197989",
        "colab": {
          "base_uri": "https://localhost:8080/"
        }
      },
      "source": [
        "import seaborn as sns\n",
        "plt.hist(training['Census_ChassisTypeName'])\n",
        "plt.hist(testing['Census_ChassisTypeName'])\n"
      ],
      "execution_count": 0,
      "outputs": [
        {
          "output_type": "execute_result",
          "data": {
            "text/plain": [
              "(array([ 143., 1599.,   35.,  540.,   14., 3820.,  261.,   27.,    0.,\n",
              "          61.]),\n",
              " array([16.0, 19.2, 22.4, 25.6, 28.8, 32.0, 35.2, 38.400000000000006, 41.6,\n",
              "        44.8, 48.0], dtype=object),\n",
              " <a list of 10 Patch objects>)"
            ]
          },
          "metadata": {
            "tags": []
          },
          "execution_count": 43
        },
        {
          "output_type": "display_data",
          "data": {
            "image/png": "[encoded data removed]",
            "text/plain": [
              "<Figure size 432x288 with 1 Axes>"
            ]
          },
          "metadata": {
            "tags": [],
            "needs_background": "light"
          }
        }
      ]
    },
    {
      "cell_type": "code",
      "metadata": {
        "id": "Pye59uKbiGro",
        "colab_type": "code",
        "outputId": "9d7c52d5-e397-4c8d-a9ba-5eee208991ac",
        "colab": {
          "base_uri": "https://localhost:8080/"
        }
      },
      "source": [
        "import seaborn as sns\n",
        "plt.hist(training['Census_InternalBatteryType'])\n",
        "plt.hist(testing['Census_InternalBatteryType'])\n"
      ],
      "execution_count": 0,
      "outputs": [
        {
          "output_type": "execute_result",
          "data": {
            "text/plain": [
              "(array([1.650e+02, 4.967e+03, 0.000e+00, 3.000e+00, 0.000e+00, 4.000e+00,\n",
              "        1.760e+02, 1.175e+03, 4.000e+00, 6.000e+00]),\n",
              " array([2.0, 7.7, 13.4, 19.1, 24.8, 30.5, 36.2, 41.9, 47.6,\n",
              "        53.300000000000004, 59.0], dtype=object),\n",
              " <a list of 10 Patch objects>)"
            ]
          },
          "metadata": {
            "tags": []
          },
          "execution_count": 44
        },
        {
          "output_type": "display_data",
          "data": {
            "image/png": "[encoded data removed]",
            "text/plain": [
              "<Figure size 432x288 with 1 Axes>"
            ]
          },
          "metadata": {
            "tags": [],
            "needs_background": "light"
          }
        }
      ]
    },
    {
      "cell_type": "code",
      "metadata": {
        "id": "9S0RtstCiJJI",
        "colab_type": "code",
        "outputId": "d2cdc086-0c66-4583-ae93-49e0b1d27a12",
        "colab": {
          "base_uri": "https://localhost:8080/"
        }
      },
      "source": [
        "import seaborn as sns\n",
        "plt.hist(training['Census_OSVersion'])\n",
        "plt.hist(testing['Census_OSVersion'])\n"
      ],
      "execution_count": 0,
      "outputs": [
        {
          "output_type": "execute_result",
          "data": {
            "text/plain": [
              "(array([ 192.,  335.,   49.,  371.,  106.,  346.,  996., 1024., 2817.,\n",
              "         264.]), array([0.0, 45.2, 90.4, 135.60000000000002, 180.8, 226.0,\n",
              "        271.20000000000005, 316.40000000000003, 361.6, 406.8, 452.0],\n",
              "       dtype=object), <a list of 10 Patch objects>)"
            ]
          },
          "metadata": {
            "tags": []
          },
          "execution_count": 45
        },
        {
          "output_type": "display_data",
          "data": {
            "image/png": "[encoded data removed]",
            "text/plain": [
              "<Figure size 432x288 with 1 Axes>"
            ]
          },
          "metadata": {
            "tags": [],
            "needs_background": "light"
          }
        }
      ]
    },
    {
      "cell_type": "code",
      "metadata": {
        "id": "vxsbUwFTiLs4",
        "colab_type": "code",
        "outputId": "a6ec531d-5984-4c4d-b6d6-a9c50e72b779",
        "colab": {
          "base_uri": "https://localhost:8080/"
        }
      },
      "source": [
        "import seaborn as sns\n",
        "plt.hist(training['Census_OSBranch'])\n",
        "plt.hist(testing['Census_OSBranch'])\n"
      ],
      "execution_count": 0,
      "outputs": [
        {
          "output_type": "execute_result",
          "data": {
            "text/plain": [
              "(array([ 477.,  472., 1366., 3602.,    0.,    0.,    7.,    0.,   56.,\n",
              "         520.]),\n",
              " array([0.0, 2.3, 4.6, 6.8999999999999995, 9.2, 11.5, 13.799999999999999,\n",
              "        16.099999999999998, 18.4, 20.7, 23.0], dtype=object),\n",
              " <a list of 10 Patch objects>)"
            ]
          },
          "metadata": {
            "tags": []
          },
          "execution_count": 46
        },
        {
          "output_type": "display_data",
          "data": {
            "image/png": "[encoded data removed]",
            "text/plain": [
              "<Figure size 432x288 with 1 Axes>"
            ]
          },
          "metadata": {
            "tags": [],
            "needs_background": "light"
          }
        }
      ]
    },
    {
      "cell_type": "code",
      "metadata": {
        "id": "NkqVzgwgiNpo",
        "colab_type": "code",
        "outputId": "9718c5f9-a30d-41f1-a6a6-1b4acc3f3e8e",
        "colab": {
          "base_uri": "https://localhost:8080/"
        }
      },
      "source": [
        "import seaborn as sns\n",
        "plt.hist(training['Census_OSBuildRevision'])\n",
        "plt.hist(testing['Census_OSBuildRevision'])\n"
      ],
      "execution_count": 0,
      "outputs": [
        {
          "output_type": "execute_result",
          "data": {
            "text/plain": [
              "(array([6011.,  292.,    0.,    0.,    0.,    0.,    0.,    0.,    0.,\n",
              "         197.]),\n",
              " array([    0. ,  1794.6,  3589.2,  5383.8,  7178.4,  8973. , 10767.6,\n",
              "        12562.2, 14356.8, 16151.4, 17946. ]),\n",
              " <a list of 10 Patch objects>)"
            ]
          },
          "metadata": {
            "tags": []
          },
          "execution_count": 47
        },
        {
          "output_type": "display_data",
          "data": {
            "image/png": "[encoded data removed]",
            "text/plain": [
              "<Figure size 432x288 with 1 Axes>"
            ]
          },
          "metadata": {
            "tags": [],
            "needs_background": "light"
          }
        }
      ]
    },
    {
      "cell_type": "code",
      "metadata": {
        "id": "vql4sn-RiPjQ",
        "colab_type": "code",
        "outputId": "dda78647-0e0f-41ca-e750-b82ccf9aeeb5",
        "colab": {
          "base_uri": "https://localhost:8080/"
        }
      },
      "source": [
        "import seaborn as sns\n",
        "plt.hist(training['Census_OSEdition'])\n",
        "plt.hist(testing['Census_OSEdition'])\n"
      ],
      "execution_count": 0,
      "outputs": [
        {
          "output_type": "execute_result",
          "data": {
            "text/plain": [
              "(array([2430., 1372.,   18.,   11.,    0., 2578.,   48.,   31.,    0.,\n",
              "          12.]), array([3.0, 6.1, 9.2, 12.3, 15.4, 18.5, 21.6, 24.7, 27.8,\n",
              "        30.900000000000002, 34.0], dtype=object), <a list of 10 Patch objects>)"
            ]
          },
          "metadata": {
            "tags": []
          },
          "execution_count": 48
        },
        {
          "output_type": "display_data",
          "data": {
            "image/png": "[encoded data removed]",
            "text/plain": [
              "<Figure size 432x288 with 1 Axes>"
            ]
          },
          "metadata": {
            "tags": [],
            "needs_background": "light"
          }
        }
      ]
    },
    {
      "cell_type": "code",
      "metadata": {
        "id": "N3jVdquXiQ9A",
        "colab_type": "code",
        "outputId": "bf203f26-3f9e-4917-f0a1-26cae3d932ad",
        "colab": {
          "base_uri": "https://localhost:8080/"
        }
      },
      "source": [
        "import seaborn as sns\n",
        "plt.hist(training['Census_OSSkuName'])\n",
        "plt.hist(testing['Census_OSSkuName'])\n"
      ],
      "execution_count": 0,
      "outputs": [
        {
          "output_type": "execute_result",
          "data": {
            "text/plain": [
              "(array([2.285e+03, 1.488e+03, 3.000e+01, 1.800e+01, 1.000e+01, 1.000e+00,\n",
              "        2.656e+03, 0.000e+00, 0.000e+00, 1.200e+01]),\n",
              " array([0.0, 2.7, 5.4, 8.100000000000001, 10.8, 13.5, 16.200000000000003,\n",
              "        18.900000000000002, 21.6, 24.3, 27.0], dtype=object),\n",
              " <a list of 10 Patch objects>)"
            ]
          },
          "metadata": {
            "tags": []
          },
          "execution_count": 49
        },
        {
          "output_type": "display_data",
          "data": {
            "image/png": "[encoded data removed]",
            "text/plain": [
              "<Figure size 432x288 with 1 Axes>"
            ]
          },
          "metadata": {
            "tags": [],
            "needs_background": "light"
          }
        }
      ]
    },
    {
      "cell_type": "code",
      "metadata": {
        "id": "WjbjGMQgiTyQ",
        "colab_type": "code",
        "outputId": "7ff261c7-1633-4fb2-9048-b2cb50a0c2fe",
        "colab": {
          "base_uri": "https://localhost:8080/"
        }
      },
      "source": [
        "import seaborn as sns\n",
        "plt.hist(training['Census_IsFlightingInternal'])\n",
        "plt.hist(testing['Census_IsFlightingInternal'])\n"
      ],
      "execution_count": 0,
      "outputs": [
        {
          "output_type": "execute_result",
          "data": {
            "text/plain": [
              "(array([6.499e+03, 0.000e+00, 0.000e+00, 0.000e+00, 0.000e+00, 0.000e+00,\n",
              "        0.000e+00, 0.000e+00, 0.000e+00, 1.000e+00]),\n",
              " array([0. , 0.1, 0.2, 0.3, 0.4, 0.5, 0.6, 0.7, 0.8, 0.9, 1. ]),\n",
              " <a list of 10 Patch objects>)"
            ]
          },
          "metadata": {
            "tags": []
          },
          "execution_count": 50
        },
        {
          "output_type": "display_data",
          "data": {
            "image/png": "[encoded data removed]",
            "text/plain": [
              "<Figure size 432x288 with 1 Axes>"
            ]
          },
          "metadata": {
            "tags": [],
            "needs_background": "light"
          }
        }
      ]
    },
    {
      "cell_type": "code",
      "metadata": {
        "id": "6TiDCJX3iVnw",
        "colab_type": "code",
        "outputId": "64142e7e-c26e-4fc1-8084-74d888cecd32",
        "colab": {
          "base_uri": "https://localhost:8080/"
        }
      },
      "source": [
        "import seaborn as sns\n",
        "plt.hist(training['Census_FlightRing'])\n",
        "plt.hist(testing['Census_FlightRing'])\n"
      ],
      "execution_count": 0,
      "outputs": [
        {
          "output_type": "execute_result",
          "data": {
            "text/plain": [
              "(array([4.000e+00, 0.000e+00, 2.080e+02, 0.000e+00, 0.000e+00, 1.300e+01,\n",
              "        6.099e+03, 1.610e+02, 7.000e+00, 8.000e+00]),\n",
              " array([2.0, 2.8, 3.6, 4.4, 5.2, 6.0, 6.800000000000001,\n",
              "        7.6000000000000005, 8.4, 9.2, 10.0], dtype=object),\n",
              " <a list of 10 Patch objects>)"
            ]
          },
          "metadata": {
            "tags": []
          },
          "execution_count": 51
        },
        {
          "output_type": "display_data",
          "data": {
            "image/png": "[encoded data removed]",
            "text/plain": [
              "<Figure size 432x288 with 1 Axes>"
            ]
          },
          "metadata": {
            "tags": [],
            "needs_background": "light"
          }
        }
      ]
    },
    {
      "cell_type": "code",
      "metadata": {
        "id": "VnqRMAEGiYCA",
        "colab_type": "code",
        "outputId": "79ae0a4f-e955-4b42-d3ba-1c902f10b21d",
        "colab": {
          "base_uri": "https://localhost:8080/"
        }
      },
      "source": [
        "import seaborn as sns\n",
        "plt.hist(training['Census_ThresholdOptIn'])\n",
        "plt.hist(testing['Census_ThresholdOptIn'])\n"
      ],
      "execution_count": 0,
      "outputs": [
        {
          "output_type": "execute_result",
          "data": {
            "text/plain": [
              "(array([2464.,    0.,    0.,    0.,    0.,    0.,    0.,    0.,    0.,\n",
              "        4036.]),\n",
              " array([0.00000000e+00, 2.50756110e-05, 5.01512219e-05, 7.52268329e-05,\n",
              "        1.00302444e-04, 1.25378055e-04, 1.50453666e-04, 1.75529277e-04,\n",
              "        2.00604888e-04, 2.25680499e-04, 2.50756110e-04]),\n",
              " <a list of 10 Patch objects>)"
            ]
          },
          "metadata": {
            "tags": []
          },
          "execution_count": 52
        },
        {
          "output_type": "display_data",
          "data": {
            "image/png": "[encoded data removed]",
            "text/plain": [
              "<Figure size 432x288 with 1 Axes>"
            ]
          },
          "metadata": {
            "tags": [],
            "needs_background": "light"
          }
        }
      ]
    },
    {
      "cell_type": "code",
      "metadata": {
        "id": "UA_r4yiiiZ6w",
        "colab_type": "code",
        "outputId": "1c72e9ff-cb39-4268-b97f-5f79e70eae1e",
        "colab": {
          "base_uri": "https://localhost:8080/"
        }
      },
      "source": [
        "import seaborn as sns\n",
        "plt.hist(training['Census_IsWIMBootEnabled'])\n",
        "plt.hist(testing['Census_IsWIMBootEnabled'])\n"
      ],
      "execution_count": 0,
      "outputs": [
        {
          "output_type": "execute_result",
          "data": {
            "text/plain": [
              "(array([2467.,    0.,    0.,    0.,    0.,    0.,    0.,    0.,    0.,\n",
              "        4033.]),\n",
              " array([0.00000000e+00, 3.06581069e-08, 6.13162138e-08, 9.19743208e-08,\n",
              "        1.22632428e-07, 1.53290535e-07, 1.83948642e-07, 2.14606748e-07,\n",
              "        2.45264855e-07, 2.75922962e-07, 3.06581069e-07]),\n",
              " <a list of 10 Patch objects>)"
            ]
          },
          "metadata": {
            "tags": []
          },
          "execution_count": 53
        },
        {
          "output_type": "display_data",
          "data": {
            "image/png": "[encoded data removed]",
            "text/plain": [
              "<Figure size 432x288 with 1 Axes>"
            ]
          },
          "metadata": {
            "tags": [],
            "needs_background": "light"
          }
        }
      ]
    },
    {
      "cell_type": "code",
      "metadata": {
        "id": "S9dF94-EHpl3",
        "colab_type": "code",
        "outputId": "6cc5b606-1021-453f-f9e6-2f6ce420dcb9",
        "colab": {
          "base_uri": "https://localhost:8080/"
        }
      },
      "source": [
        "def boostrap_mean(sample,n_iterations):\n",
        "  import random \n",
        "  \n",
        "  data_mean11=np.array([])\n",
        "  for i in range(n_iterations):\n",
        "    sample1=np.random.choice(sample,size=5)\n",
        "    data_mean1=np.mean(sample1)\n",
        "    data_mean11=np.append(data_mean11,data_mean1)\n",
        "  data_mean=np.mean(data_mean11)  \n",
        "  print (data_mean)\n",
        "  lower=np.percentile(data_mean11,5)\n",
        "  upper=np.percentile(data_mean11,95)\n",
        "  return data_mean,lower,upper\n",
        "boots = []\n",
        "for i in range(100, 100000, 1000):\n",
        "    boot = boostrap_mean(train['Census_InternalBatteryType'], i)\n",
        "    boots.append([i, boot[0], \"mean\"])\n",
        "    boots.append([i, boot[1], \"lower\"])\n",
        "    boots.append([i, boot[2], \"upper\"])\n",
        "\n",
        "df_boot = pd.DataFrame(boots, columns=['Boostrap Iterations', 'Mean', \"Value\"])\n",
        "sns_plot = sns.lmplot(df_boot.columns[0], df_boot.columns[1], data=df_boot, fit_reg=False, hue=\"Value\")\n",
        "\n",
        "sns_plot.axes[0, 0].set_ylim(0,)\n",
        "sns_plot.axes[0, 0].set_xlim(0, 100000)\n",
        "boots = []\n",
        "for i in range(100, 100000, 1000):\n",
        "    boot = boostrap_mean(test['Census_InternalBatteryType'], i)\n",
        "    boots.append([i, boot[0], \"mean\"])\n",
        "    boots.append([i, boot[1], \"lower\"])\n",
        "    boots.append([i, boot[2], \"upper\"])\n",
        "\n",
        "df_boot = pd.DataFrame(boots, columns=['Boostrap Iterations', 'Mean', \"Value\"])\n",
        "sns_plot = sns.lmplot(df_boot.columns[0], df_boot.columns[1], data=df_boot, fit_reg=False, hue=\"Value\")\n",
        "\n",
        "sns_plot.axes[0, 0].set_ylim(0,)\n",
        "sns_plot.axes[0, 0].set_xlim(0, 100000)\n",
        "\n",
        "\n",
        "def boostrap_mean1(sample,n_iterations):\n",
        "  import random \n",
        "  \n",
        "  data_mean11=np.array([])\n",
        "  for i in range(n_iterations):\n",
        "    sample1=np.random.choice(sample,size=5)\n",
        "    data_mean1=np.mean(sample1)\n",
        "    data_mean11=np.append(data_mean11,data_mean1)\n",
        " \n",
        "  \n",
        "  lower=np.percentile(data_mean11,5)\n",
        "  upper=np.percentile(data_mean11,95)\n",
        "  data_mean1=data_mean11[(data_mean11>lower) & (data_mean11<upper)]  \n",
        "  data_mean=np.mean(data_mean1) \n",
        "  \n",
        " \n",
        "  return data_mean\n",
        "mean1=boostrap_mean1(train['Census_InternalBatteryType'], 10000 )\n",
        "mean2=boostrap_mean1(test['Census_InternalBatteryType'],10000 )\n",
        "\n",
        "T_obs=mean1-mean2\n",
        "\n",
        "\n",
        "data1=train['Census_InternalBatteryType']\n",
        "data2=test['Census_InternalBatteryType']\n",
        "new_data=np.concatenate([data1,data2])\n",
        "count=0\n",
        "for i in range(20000):\n",
        "  dat1=np.random.choice(new_data,7000)\n",
        "  dat2=np.random.choice(new_data,6000)\n",
        "  mean_dat1=np.mean(dat1)\n",
        "  mean_dat2=np.mean(dat2)\n",
        "  T_perm= mean_dat2-mean_dat1\n",
        "  if T_perm>T_obs:\n",
        "    count=count+1\n",
        "p_value=count/20000\n",
        "print(p_value)"
      ],
      "execution_count": 0,
      "outputs": [
        {
          "output_type": "stream",
          "text": [
            "51.03\n",
            "50.642545454545456\n",
            "50.836666666666666\n",
            "50.77587096774194\n",
            "50.78775609756098\n",
            "50.87098039215686\n",
            "50.82265573770492\n",
            "50.767380281690144\n",
            "50.76664197530864\n",
            "50.76993406593406\n",
            "50.77251485148515\n",
            "50.799891891891896\n",
            "50.809933884297514\n",
            "50.82830534351145\n",
            "50.83485106382978\n",
            "50.86838410596026\n",
            "50.795739130434775\n",
            "50.78254970760234\n",
            "50.84243093922652\n",
            "50.78178010471204\n",
            "50.796716417910446\n",
            "50.84474881516587\n",
            "50.83070588235294\n",
            "50.79537662337663\n",
            "50.76983402489626\n",
            "50.8146374501992\n",
            "50.829295019157094\n",
            "50.803195571955726\n",
            "50.79148754448398\n",
            "50.84768384879725\n",
            "50.82203986710964\n",
            "50.80077813504823\n",
            "50.77803115264797\n",
            "50.80680966767371\n",
            "50.826815249266865\n",
            "50.7945811965812\n",
            "50.7904432132964\n",
            "50.79916981132076\n",
            "50.79349606299213\n",
            "50.78390792838875\n",
            "50.78872817955112\n",
            "50.78268613138686\n",
            "50.824517814726846\n",
            "50.80432482598608\n",
            "50.78985034013606\n",
            "50.78324611973393\n",
            "50.79630802603037\n",
            "50.802433121019114\n",
            "50.80272765072765\n",
            "50.805816700611\n",
            "50.81916167664671\n",
            "50.795522504892375\n",
            "50.80583877159309\n",
            "50.81432391713748\n",
            "50.81606284658041\n",
            "50.81359346642469\n",
            "50.79318003565062\n",
            "50.82054991243432\n",
            "50.798726333907055\n",
            "50.780243654822335\n",
            "50.83452246256239\n",
            "50.788333878887066\n",
            "50.819043478260866\n",
            "50.7987321711569\n",
            "50.822006240249614\n",
            "50.82668202764977\n",
            "50.819549167927384\n",
            "50.806122205663186\n",
            "50.78779735682819\n",
            "50.80099565846599\n",
            "50.79303851640513\n",
            "50.82844725738397\n",
            "50.79280721220527\n",
            "50.812651162790694\n",
            "50.828844804318486\n",
            "50.80385352862849\n",
            "50.810586070959275\n",
            "50.81833203631647\n",
            "50.8047323943662\n",
            "50.8246396965866\n",
            "50.805575530586765\n",
            "50.81420715166461\n",
            "50.801768574908635\n",
            "50.807583634175685\n",
            "50.80721284185494\n",
            "50.80851233842539\n",
            "50.798016260162605\n",
            "50.81173134328358\n",
            "50.79079682179342\n",
            "50.80520538720538\n",
            "50.80510099889012\n",
            "50.80194511525795\n",
            "50.811763300760035\n",
            "50.798642320085925\n",
            "50.818210414452714\n",
            "50.815488958990535\n",
            "50.802087408949006\n",
            "50.809623069001034\n",
            "50.80586340468909\n",
            "50.798508577194745\n",
            "17.182000000000002\n",
            "17.479818181818185\n",
            "17.73447619047619\n",
            "17.401161290322584\n",
            "17.56614634146342\n",
            "17.578509803921566\n",
            "17.591311475409835\n",
            "17.645126760563382\n",
            "17.722197530864197\n",
            "17.624175824175826\n",
            "17.567188118811885\n",
            "17.615261261261264\n",
            "17.585851239669424\n",
            "17.600274809160304\n",
            "17.58676595744681\n",
            "17.635311258278147\n",
            "17.57357763975155\n",
            "17.67123976608187\n",
            "17.656519337016572\n",
            "17.60753926701571\n",
            "17.61112437810945\n",
            "17.569213270142182\n",
            "17.603095022624437\n",
            "17.649922077922074\n",
            "17.651676348547717\n",
            "17.625075697211155\n",
            "17.573295019157086\n",
            "17.594059040590405\n",
            "17.631722419928824\n",
            "17.642006872852235\n",
            "17.61223255813953\n",
            "17.597890675241157\n",
            "17.64366355140187\n",
            "17.549498489425982\n",
            "17.618598240469208\n",
            "17.628740740740742\n",
            "17.684681440443217\n",
            "17.615245283018872\n",
            "17.609805774278215\n",
            "17.59562148337596\n",
            "17.57426932668329\n",
            "17.54210705596107\n",
            "17.61778622327791\n",
            "17.689229698375872\n",
            "17.605609977324264\n",
            "17.587445676274942\n",
            "17.567509761388287\n",
            "17.58396178343949\n",
            "17.589979209979212\n",
            "17.603046843177193\n",
            "17.598874251497005\n",
            "17.57549119373777\n",
            "17.605842610364682\n",
            "17.62801129943503\n",
            "17.621670979667286\n",
            "17.631357531760436\n",
            "17.631700534759357\n",
            "17.60465148861646\n",
            "17.640664371772804\n",
            "17.609959390862947\n",
            "17.64797670549085\n",
            "17.60851718494272\n",
            "17.600792270531404\n",
            "17.600202852614895\n",
            "17.608505460218407\n",
            "17.598506912442396\n",
            "17.57636308623298\n",
            "17.59550521609538\n",
            "17.601321585903083\n",
            "17.613727930535454\n",
            "17.622844507845933\n",
            "17.601364275668075\n",
            "17.615719833564494\n",
            "17.611160054719562\n",
            "17.598102564102565\n",
            "17.61421571238349\n",
            "17.561513797634692\n",
            "17.609761348897536\n",
            "17.58608706786172\n",
            "17.570404551201015\n",
            "17.6654556803995\n",
            "17.56483107274969\n",
            "17.5973568818514\n",
            "17.60276293622142\n",
            "17.59346016646849\n",
            "17.55242303172738\n",
            "17.61074796747968\n",
            "17.60449368541906\n",
            "17.613035187287174\n",
            "17.636994388327725\n",
            "17.612319644839072\n",
            "17.601635565312844\n",
            "17.588134636264925\n",
            "17.588861439312566\n",
            "17.59531774707758\n",
            "17.59458464773922\n",
            "17.617055150884497\n",
            "17.58603707518023\n",
            "17.61705402650357\n",
            "17.609227043390515\n",
            "0.0\n"
          ],
          "name": "stdout"
        },
        {
          "output_type": "display_data",
          "data": {
            "image/png": "[encoded data removed]",
            "text/plain": [
              "<Figure size 425.125x360 with 1 Axes>"
            ]
          },
          "metadata": {
            "tags": [],
            "needs_background": "light"
          }
        },
        {
          "output_type": "display_data",
          "data": {
            "image/png": "[encoded data removed]",
            "text/plain": [
              "<Figure size 425.125x360 with 1 Axes>"
            ]
          },
          "metadata": {
            "tags": [],
            "needs_background": "light"
          }
        }
      ]
    },
    {
      "cell_type": "code",
      "metadata": {
        "id": "tr_SYH8dZiXq",
        "colab_type": "code",
        "colab": {}
      },
      "source": [
        "# using a basic model with all the features\n",
        "training = train.drop('source',axis=1)\n",
        "testing = test.drop('source',axis=1)"
      ],
      "execution_count": 0,
      "outputs": []
    },
    {
      "cell_type": "code",
      "metadata": {
        "id": "f-z7sORZBtWM",
        "colab_type": "code",
        "colab": {}
      },
      "source": [
        "from sklearn.ensemble import RandomForestRegressor\n",
        "from sklearn.ensemble import RandomForestClassifier\n",
        "from sklearn.model_selection import cross_val_score\n",
        "from sklearn.preprocessing import LabelEncoder"
      ],
      "execution_count": 0,
      "outputs": []
    },
    {
      "cell_type": "code",
      "metadata": {
        "id": "xg1EWfk-zURn",
        "colab_type": "code",
        "colab": {}
      },
      "source": [
        "rf = RandomForestRegressor(n_estimators=200, max_depth=6,max_features=10)\n",
        "rf.fit(training.drop('HasDetections',axis=1),training['HasDetections'])\n",
        "pred = rf.predict(testing)\n",
        "columns = ['HasDetections']\n",
        "sub = pd.DataFrame(data=pred,columns=columns)\n",
        "sub['id'] = test['id']\n",
        "sub = sub[['id','HasDetections']]\n",
        "sub.to_csv('with_drifting.csv', index=False)"
      ],
      "execution_count": 0,
      "outputs": []
    },
    {
      "cell_type": "code",
      "metadata": {
        "id": "pIFeCK5KzUOk",
        "colab_type": "code",
        "colab": {}
      },
      "source": [
        "X = target\n",
        "y = training"
      ],
      "execution_count": 0,
      "outputs": []
    },
    {
      "cell_type": "code",
      "metadata": {
        "id": "zfejiKTuIgEz",
        "colab_type": "code",
        "colab": {}
      },
      "source": [
        "from sklearn.model_selection import train_test_split\n",
        "# implementing train-test-split\n",
        "X_train, X_test, y_train, y_test = train_test_split(X, y, test_size=0.33, random_state=66)"
      ],
      "execution_count": 0,
      "outputs": []
    },
    {
      "cell_type": "code",
      "metadata": {
        "id": "nAhEGPDIIf_s",
        "colab_type": "code",
        "colab": {}
      },
      "source": [
        "from sklearn import model_selection\n",
        "# random forest model creation\n",
        "rfc = RandomForestClassifier()\n",
        "rfc.fit(X_train,y_train)\n",
        "# predictions\n",
        "rfc_predict = rfc.predict(X_test)"
      ],
      "execution_count": 0,
      "outputs": []
    },
    {
      "cell_type": "code",
      "metadata": {
        "id": "7HkXJU0BKGNE",
        "colab_type": "code",
        "colab": {}
      },
      "source": [
        "rfc_predict.to_csv(\"submission_with_features.csv\", index=False)"
      ],
      "execution_count": 0,
      "outputs": []
    },
    {
      "cell_type": "code",
      "metadata": {
        "id": "H7o9g-cgIf6I",
        "colab_type": "code",
        "colab": {}
      },
      "source": [
        "feat=[\"EngineVersion\",\"AppVersion\",\"AvSigVersion\",\"OsBuildLab\",\"PuaMode\",\"SmartScreen\",\"Census_ProcessorClass\",\"Census_PrimaryDiskTypeName\",\"Census_ChassisTypeName\",'Census_PowerPlatformRoleName',\"Census_InternalBatteryType\",\"Census_OSVersion\",\"Census_OSBranch\",\"Census_OSEdition\",\"Census_OSSkuName\",\"Census_GenuineStateName\",\"Census_FlightRing\"]"
      ],
      "execution_count": 0,
      "outputs": []
    },
    {
      "cell_type": "code",
      "metadata": {
        "id": "jZpGKcrVzTzY",
        "colab_type": "code",
        "colab": {}
      },
      "source": [
        "training.drop([\"EngineVersion\",\"AppVersion\",\"AvSigVersion\",\"OsBuildLab\",\"PuaMode\",\"SmartScreen\",\"Census_ProcessorClass\",\"Census_PrimaryDiskTypeName\",\"Census_ChassisTypeName\",'Census_PowerPlatformRoleName',\"Census_InternalBatteryType\",\"Census_OSVersion\",\"Census_OSBranch\",\"Census_OSEdition\",\"Census_OSSkuName\",\"Census_GenuineStateName\",\"Census_FlightRing\"], axis=1, inplace=True)"
      ],
      "execution_count": 0,
      "outputs": []
    },
    {
      "cell_type": "code",
      "metadata": {
        "id": "mjuwIyz8Jpg5",
        "colab_type": "code",
        "colab": {}
      },
      "source": [
        "from sklearn.model_selection import train_test_split\n",
        "# implementing train-test-split\n",
        "X_train, X_test, y_train, y_test = train_test_split(X, y, test_size=0.33, random_state=66)"
      ],
      "execution_count": 0,
      "outputs": []
    },
    {
      "cell_type": "code",
      "metadata": {
        "id": "o1uRWIk2JtAG",
        "colab_type": "code",
        "colab": {}
      },
      "source": [
        "from sklearn import model_selection\n",
        "# random forest model creation\n",
        "rfc = RandomForestClassifier()\n",
        "rfc.fit(X_train,y_train)\n",
        "# predictions\n",
        "rfc_predict = rfc.predict(X_test)"
      ],
      "execution_count": 0,
      "outputs": []
    },
    {
      "cell_type": "code",
      "metadata": {
        "id": "tgvXgV1yJxV1",
        "colab_type": "code",
        "colab": {}
      },
      "source": [
        "rfc_predict.to_csv(\"submission_without_features.csv\", index=False)"
      ],
      "execution_count": 0,
      "outputs": []
    },
    {
      "cell_type": "code",
      "metadata": {
        "id": "aHNnqQMpKPrM",
        "colab_type": "code",
        "colab": {}
      },
      "source": [
        "!kaggle competitions submit -c sberbank-russian-housing-market -f /content/submission_no_weight.csv -m \"sub1\""
      ],
      "execution_count": 0,
      "outputs": []
    },
    {
      "cell_type": "code",
      "metadata": {
        "id": "zOajOgfTKTrT",
        "colab_type": "code",
        "colab": {}
      },
      "source": [
        "!kaggle competitions submit -c sberbank-russian-housing-market -f /content/submission_no_weight.csv -m \"sub2\""
      ],
      "execution_count": 0,
      "outputs": []
    }
  ]
}