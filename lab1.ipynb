{
  "nbformat": 4,
  "nbformat_minor": 0,
  "metadata": {
    "colab": {
      "name": "Untitled1.ipynb",
      "provenance": [],
      "authorship_tag": "ABX9TyM2Z2cXEskpAT9UzE1R2c0E",
      "include_colab_link": true
    },
    "kernelspec": {
      "name": "python3",
      "display_name": "Python 3"
    }
  },
  "cells": [
    {
      "cell_type": "markdown",
      "metadata": {
        "id": "view-in-github",
        "colab_type": "text"
      },
      "source": [
        "<a href=\"https://colab.research.google.com/github/sril1485/CE888/blob/master/Untitled1.ipynb\" target=\"_parent\"><img src=\"https://colab.research.google.com/assets/colab-badge.svg\" alt=\"Open In Colab\"/></a>"
      ]
    },
    {
      "cell_type": "code",
      "metadata": {
        "id": "s3tviNtqSYDE",
        "colab_type": "code",
        "colab": {
          "base_uri": "https://localhost:8080/",
          "height": 153
        },
        "outputId": "841a86dd-a3c9-4663-d46a-434ac4dc047d"
      },
      "source": [
        "import numpy as np\n",
        "\n",
        "a=np.array([[1,2],[3,4],[5,6],[7,8]])\n",
        "print(a)\n",
        "print(type(a))\n",
        "print(a.dtype)\n",
        "print(a.ndim)\n",
        "print(a.shape)"
      ],
      "execution_count": 2,
      "outputs": [
        {
          "output_type": "stream",
          "text": [
            "[[1 2]\n",
            " [3 4]\n",
            " [5 6]\n",
            " [7 8]]\n",
            "<class 'numpy.ndarray'>\n",
            "int64\n",
            "2\n",
            "(4, 2)\n"
          ],
          "name": "stdout"
        }
      ]
    },
    {
      "cell_type": "code",
      "metadata": {
        "id": "d9UMlzsGSkyO",
        "colab_type": "code",
        "colab": {
          "base_uri": "https://localhost:8080/",
          "height": 68
        },
        "outputId": "09172e23-5107-4375-f84b-c439750b7ee0"
      },
      "source": [
        "arr=np.array([[111,211,130,401,15,61,17,81,19,110]])\n",
        "print(np.sort(arr))\n",
        "b=np.sort(arr)\n",
        "print(type(b))\n",
        "print(b[::,::-1])"
      ],
      "execution_count": 3,
      "outputs": [
        {
          "output_type": "stream",
          "text": [
            "[[ 15  17  19  61  81 110 111 130 211 401]]\n",
            "<class 'numpy.ndarray'>\n",
            "[[401 211 130 111 110  81  61  19  17  15]]\n"
          ],
          "name": "stdout"
        }
      ]
    },
    {
      "cell_type": "code",
      "metadata": {
        "id": "iXS16Y_lSr6O",
        "colab_type": "code",
        "colab": {
          "base_uri": "https://localhost:8080/",
          "height": 102
        },
        "outputId": "8649e36d-097b-4092-895b-a6e73d581bdf"
      },
      "source": [
        "one_d=np.array([1,2,3,4,5,6,7,8,9])\n",
        "two_d=np.array([[one_d[0:3]],[one_d[3:6]],[one_d[6:]]])\n",
        "print(two_d)"
      ],
      "execution_count": 4,
      "outputs": [
        {
          "output_type": "stream",
          "text": [
            "[[[1 2 3]]\n",
            "\n",
            " [[4 5 6]]\n",
            "\n",
            " [[7 8 9]]]\n"
          ],
          "name": "stdout"
        }
      ]
    },
    {
      "cell_type": "code",
      "metadata": {
        "id": "5yFEAR67Su1e",
        "colab_type": "code",
        "colab": {
          "base_uri": "https://localhost:8080/",
          "height": 68
        },
        "outputId": "fdbccc73-2ccc-4742-c63c-96566e272d8e"
      },
      "source": [
        "arr_1=np.array([1,2,3])\n",
        "arr_2=np.array([4,5,6])\n",
        "v_arr=np.array([arr_1,arr_2])\n",
        "print(v_arr)\n",
        "h_arr=np.concatenate([arr_1,arr_2])\n",
        "print(h_arr)"
      ],
      "execution_count": 5,
      "outputs": [
        {
          "output_type": "stream",
          "text": [
            "[[1 2 3]\n",
            " [4 5 6]]\n",
            "[1 2 3 4 5 6]\n"
          ],
          "name": "stdout"
        }
      ]
    },
    {
      "cell_type": "code",
      "metadata": {
        "id": "ETD6ybhySvad",
        "colab_type": "code",
        "colab": {
          "base_uri": "https://localhost:8080/",
          "height": 34
        },
        "outputId": "168d4be3-f7f8-4dba-9b0e-ce7620f32ddf"
      },
      "source": [
        "ar_1=np.array([1,2,3])\n",
        "ar_2=np.array([3,5,6])\n",
        "s_ar1=set(ar_1)\n",
        "s_ar2=set(ar_2)\n",
        "s_ar1.intersection(s_ar2)"
      ],
      "execution_count": 6,
      "outputs": [
        {
          "output_type": "execute_result",
          "data": {
            "text/plain": [
              "{3}"
            ]
          },
          "metadata": {
            "tags": []
          },
          "execution_count": 6
        }
      ]
    },
    {
      "cell_type": "code",
      "metadata": {
        "id": "jQW2FAkzSy6m",
        "colab_type": "code",
        "colab": {
          "base_uri": "https://localhost:8080/",
          "height": 459
        },
        "outputId": "eedaaeab-43db-41c6-d906-055c62751beb"
      },
      "source": [
        "fiv_ar=np.array([[1,2,3,4,5],[6,7,8,9,10],[11,12,13,14,15],[16,17,18,19,20],[21,22,23,24,25]])\n",
        "#print(fiv_ar.shape)\n",
        "print('Min')\n",
        "for i in fiv_ar:\n",
        "  print(min(i))\n",
        "print('\\n')\n",
        "for i in fiv_ar.T:\n",
        "  print(min(i))\n",
        "print('Max')\n",
        "for i in fiv_ar:\n",
        "  print(max(i))\n",
        "print('\\n')\n",
        "for i in fiv_ar.T:\n",
        "  print(max(i))"
      ],
      "execution_count": 7,
      "outputs": [
        {
          "output_type": "stream",
          "text": [
            "Min\n",
            "1\n",
            "6\n",
            "11\n",
            "16\n",
            "21\n",
            "\n",
            "\n",
            "1\n",
            "2\n",
            "3\n",
            "4\n",
            "5\n",
            "Max\n",
            "5\n",
            "10\n",
            "15\n",
            "20\n",
            "25\n",
            "\n",
            "\n",
            "21\n",
            "22\n",
            "23\n",
            "24\n",
            "25\n"
          ],
          "name": "stdout"
        }
      ]
    },
    {
      "cell_type": "code",
      "metadata": {
        "id": "D6EBn0PCTq9w",
        "colab_type": "code",
        "colab": {
          "base_uri": "https://localhost:8080/",
          "height": 119
        },
        "outputId": "b2244b29-c050-40b5-9cd9-674078a851d8"
      },
      "source": [
        "from numpy.random import rand\n",
        "stat=np.array(rand(100))\n",
        "print('mean:')\n",
        "print(np.mean(stat))\n",
        "print('median:')\n",
        "print(np.median(stat))\n",
        "print('standard deviation:')\n",
        "print(np.std(stat))"
      ],
      "execution_count": 8,
      "outputs": [
        {
          "output_type": "stream",
          "text": [
            "mean:\n",
            "0.43523556275030884\n",
            "median:\n",
            "0.3787505439665961\n",
            "standard deviation:\n",
            "0.27961590348253884\n"
          ],
          "name": "stdout"
        }
      ]
    },
    {
      "cell_type": "code",
      "metadata": {
        "id": "0qi3qOrSTtVB",
        "colab_type": "code",
        "colab": {
          "base_uri": "https://localhost:8080/",
          "height": 102
        },
        "outputId": "a55d45e9-087d-404b-9beb-f39b4ed0c7b2"
      },
      "source": [
        "from sklearn.decomposition import PCA\n",
        "\n",
        "from sklearn.preprocessing import normalize\n",
        "fiv_ar=np.array([[1,2,3,4,5],[6,7,8,9,10],[11,12,13,14,15],[16,17,18,19,20],[21,22,23,24,25]])\n",
        "normed_matrix = normalize(fiv_ar, axis=1)\n",
        "print(normed_matrix)"
      ],
      "execution_count": 9,
      "outputs": [
        {
          "output_type": "stream",
          "text": [
            "[[0.13483997 0.26967994 0.40451992 0.53935989 0.67419986]\n",
            " [0.33028913 0.38533732 0.44038551 0.49543369 0.55048188]\n",
            " [0.37619206 0.41039134 0.44459062 0.4787899  0.51298918]\n",
            " [0.39630192 0.42107079 0.44583966 0.47060853 0.4953774 ]\n",
            " [0.40755576 0.42696317 0.44637059 0.46577801 0.48518542]]\n"
          ],
          "name": "stdout"
        }
      ]
    },
    {
      "cell_type": "code",
      "metadata": {
        "id": "uXbIXaFQTyBp",
        "colab_type": "code",
        "colab": {
          "base_uri": "https://localhost:8080/",
          "height": 340
        },
        "outputId": "69e707ad-b6e3-4718-a9e7-47596b8e8ac6"
      },
      "source": [
        "mat_try=np.array([[[1,2,3],[4,5,6],[7,8,9],[10,11,12]],\n",
        "                  [[13,14,15],[16,17,18],[19,20,21],[22,23,24]],\n",
        "                  [[25,26,27],[28,29,30],[31,32,33],[34,35,36]],\n",
        "                  [[37,38,39],[40,41,42],[44,45,46],[47,48,49]]])\n",
        "\n",
        "four_a=np.array([[1,2,3,4],\n",
        "                [5,6,7,8],\n",
        "                [9,0,1,2],\n",
        "                [3,4,5,6]])\n",
        "print(np.matmul(four_a,mat_try))"
      ],
      "execution_count": 10,
      "outputs": [
        {
          "output_type": "stream",
          "text": [
            "[[[  70   80   90]\n",
            "  [ 158  184  210]\n",
            "  [  36   48   60]\n",
            "  [ 114  132  150]]\n",
            "\n",
            " [[ 190  200  210]\n",
            "  [ 470  496  522]\n",
            "  [ 180  192  204]\n",
            "  [ 330  348  366]]\n",
            "\n",
            " [[ 310  320  330]\n",
            "  [ 782  808  834]\n",
            "  [ 324  336  348]\n",
            "  [ 546  564  582]]\n",
            "\n",
            " [[ 437  447  457]\n",
            "  [1109 1135 1161]\n",
            "  [ 471  483  495]\n",
            "  [ 773  791  809]]]\n"
          ],
          "name": "stdout"
        }
      ]
    },
    {
      "cell_type": "code",
      "metadata": {
        "id": "HDSUv2ufT1Q5",
        "colab_type": "code",
        "colab": {}
      },
      "source": [
        ""
      ],
      "execution_count": 0,
      "outputs": []
    }
  ]
}
